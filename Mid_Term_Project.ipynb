{
 "cells": [
  {
   "cell_type": "markdown",
   "id": "10571758",
   "metadata": {},
   "source": [
    "#                            Final_Project_Brain_Tumor_Classifier"
   ]
  },
  {
   "cell_type": "markdown",
   "id": "7a780043",
   "metadata": {},
   "source": [
    "                  Authors: Tahir Hussain"
   ]
  },
  {
   "cell_type": "markdown",
   "id": "71cfc9ba",
   "metadata": {},
   "source": [
    "# Project Overview and Objective:"
   ]
  },
  {
   "cell_type": "markdown",
   "id": "92b5d755",
   "metadata": {},
   "source": [
    "1)The main purpose of this project was to build models that would classify if a subject has a tumor or not based on an MRI scan. The model would try to learn the pattern of Brain Tumor in the MRI scans with different conditions such as - brain shape, size of the tumor etc.\n",
    "\n",
    "\n",
    "\n",
    "2)In addition, we would like to test the model after training, either the given image, will be able to correctly classified or not, also a person has a brain tumor or not."
   ]
  },
  {
   "cell_type": "markdown",
   "id": "00968488",
   "metadata": {},
   "source": [
    "# Data-Set Description:"
   ]
  },
  {
   "cell_type": "markdown",
   "id": "c922fdee",
   "metadata": {},
   "source": [
    "The image data that was used for this problem is Brain MRI Images for Brain Tumor Detection from Kaggle web. It consists 253 MRI scans of two classes:\n",
    "\n",
    "NO - no tumor, encoded as 0 - 2606 images\n",
    "\n",
    "YES - tumor, encoded as 1 - 5285 images\n"
   ]
  },
  {
   "cell_type": "markdown",
   "id": "23f7ee02",
   "metadata": {},
   "source": [
    "# Our Techniques:"
   ]
  },
  {
   "cell_type": "markdown",
   "id": "91a35920",
   "metadata": {},
   "source": [
    "We will build a number of models based on different learning techniques to classify the brian tumor MRI images i-e:\n",
    "\n",
    "\n",
    "KNN model - finding a K-nearby neighbor.\n",
    "\n",
    "SVM model - Support Vector Machine\n",
    "\n",
    "Random Forest model - a forest of decision trees.\n",
    "\n",
    "CNN model - a technique we learned in the \"deep learning\" course that we think will give good results on the database."
   ]
  },
  {
   "cell_type": "markdown",
   "id": "4200ce1e",
   "metadata": {},
   "source": [
    "# The difficulties and solutions:"
   ]
  },
  {
   "cell_type": "markdown",
   "id": "04ec3141",
   "metadata": {},
   "source": [
    "There was a black frame around the brain area in the images, and we wanted to remove it in order to optimize the model's training. \n",
    "Therefore we wrote a sophisticated algorithm that finds the edges of the brain area in the image and crops according to it. \n",
    "But then we got that each image has a different size. Eventually we decided to use the resize algorithm to remove the black areas by naive way.\n",
    "In our data there were images of different sizes, some in RGB and some in grayscale. \n",
    "To maintain uniformity we converted all the images to be grayscale and 64 * 64 in size.\n",
    "\n",
    "The data has an imbalance in the amount of images that contain a tumor and those that do not. \n",
    "There are 5285 that contain a tumor and 2607 that do not. We saw that this imbalance affects the results of the CNN model. \n",
    "Therefore we solved this by giving a factor of 1.5 to the error weight of the images without the magnification\n",
    "We had an overfitting in the CNN model. \n",
    "In order to overcome this we made the model less complex and limited the amount of iterations, also we add dropout of 30%.\n",
    "Code:\n",
    "\n",
    "Import all the necessary libraries:\n",
    "We have used Python libraries:\n",
    "\n",
    "sklearn\n",
    "\n",
    "tensorflow"
   ]
  },
  {
   "cell_type": "code",
   "execution_count": 1,
   "id": "e7021ffc",
   "metadata": {},
   "outputs": [],
   "source": [
    "import numpy as np\n",
    "import pandas as pd\n",
    "import cv2\n",
    "import os\n",
    "from tqdm import tqdm\n",
    "import random as rn\n",
    "\n",
    "from sklearn.model_selection import train_test_split\n",
    "from sklearn.metrics import confusion_matrix\n",
    "from sklearn import metrics\n",
    "from sklearn.utils import resample\n",
    "\n",
    "from sklearn.svm import SVC\n",
    "from sklearn.neighbors import KNeighborsClassifier\n",
    "from sklearn.ensemble import RandomForestClassifier\n",
    "\n",
    "from sklearn.model_selection import GridSearchCV\n",
    "# ! pip install split-folders\n",
    "import splitfolders\n",
    "\n",
    "import tensorflow as tf\n",
    "from tensorflow.keras.preprocessing.image import ImageDataGenerator\n",
    "from tensorflow.keras.preprocessing import image\n",
    "from IPython.display import display, Image\n",
    "\n",
    "import matplotlib.pyplot as plt\n",
    "import seaborn as sns"
   ]
  },
  {
   "cell_type": "code",
   "execution_count": 2,
   "id": "8cdf0cf5",
   "metadata": {},
   "outputs": [],
   "source": [
    "rs = 42 # random seed\n",
    "np.random.seed(rs)\n",
    "rn.seed(rs)"
   ]
  },
  {
   "cell_type": "code",
   "execution_count": 3,
   "id": "4a4d6a46",
   "metadata": {},
   "outputs": [],
   "source": [
    "X = []\n",
    "Z = []\n",
    "IMG_SIZE=64\n",
    "\n",
    "NO_DIR= 'Brain_Tumor_dataset_no'\n",
    "YES_DIR= 'Brain_Tumor_dataset_yes'"
   ]
  },
  {
   "cell_type": "code",
   "execution_count": 4,
   "id": "79ebbe61",
   "metadata": {},
   "outputs": [],
   "source": [
    "def make_train_data(label,DIR):\n",
    "    for img in tqdm(os.listdir(DIR)):\n",
    "        path = os.path.join(DIR,img)\n",
    "        img = cv2.imread(path)\n",
    "        img = cv2.resize(img, (IMG_SIZE, IMG_SIZE))\n",
    "        if len(img.shape) == 3:\n",
    "            img = cv2.cvtColor(img, cv2.COLOR_BGR2GRAY)\n",
    "        np_img=np.asarray(img)\n",
    "        X.append(np_img)\n",
    "        Z.append(str(label))"
   ]
  },
  {
   "cell_type": "code",
   "execution_count": 5,
   "id": "42512e81",
   "metadata": {},
   "outputs": [
    {
     "name": "stderr",
     "output_type": "stream",
     "text": [
      "100%|██████████████████████████████████████████████████████████████████████████████| 2607/2607 [00:37<00:00, 69.45it/s]"
     ]
    },
    {
     "name": "stdout",
     "output_type": "stream",
     "text": [
      "2607\n"
     ]
    },
    {
     "name": "stderr",
     "output_type": "stream",
     "text": [
      "\n"
     ]
    }
   ],
   "source": [
    "# make 'No' data\n",
    "make_train_data('No',NO_DIR)\n",
    "print(len(X))"
   ]
  },
  {
   "cell_type": "code",
   "execution_count": 6,
   "id": "079271a0",
   "metadata": {},
   "outputs": [
    {
     "name": "stderr",
     "output_type": "stream",
     "text": [
      "100%|█████████████████████████████████████████████████████████████████████████████| 2678/2678 [00:19<00:00, 139.27it/s]"
     ]
    },
    {
     "name": "stdout",
     "output_type": "stream",
     "text": [
      "5285\n"
     ]
    },
    {
     "name": "stderr",
     "output_type": "stream",
     "text": [
      "\n"
     ]
    }
   ],
   "source": [
    "# make 'Yes' data\n",
    "make_train_data('Yes',YES_DIR)\n",
    "print(len(X))"
   ]
  },
  {
   "cell_type": "code",
   "execution_count": 7,
   "id": "19ba1fd4",
   "metadata": {},
   "outputs": [],
   "source": [
    "# Description of the data:\n",
    "\n",
    "# Number of instances: 5285\n",
    "# Number of attributes: 64*64"
   ]
  },
  {
   "cell_type": "code",
   "execution_count": 8,
   "id": "dafcfe6f",
   "metadata": {},
   "outputs": [
    {
     "data": {
      "image/png": "[encoded data removed]",
      "text/plain": [
       "<Figure size 1080x1080 with 6 Axes>"
      ]
     },
     "metadata": {
      "needs_background": "light"
     },
     "output_type": "display_data"
    }
   ],
   "source": [
    "# check some images\n",
    "fig,ax=plt.subplots(3,2)\n",
    "fig.set_size_inches(15,15)\n",
    "for i in range(3):\n",
    "    for j in range (2):      \n",
    "#         l=rn.randint(0,len(Z))\n",
    "#         ax[i,j].imshow(X[l], cmap='gray')\n",
    "#         ax[i,j].set_title('Lable: '+Z[l])\n",
    "        if j == 0:\n",
    "            ax[i,j].imshow(X[i], cmap='gray')\n",
    "            ax[i,j].set_title('Lable: '+Z[i])\n",
    "        else:\n",
    "            ax[i,j].imshow(X[len(Z) - 1 - i], cmap='gray')\n",
    "            ax[i,j].set_title('Lable: '+Z[len(Z) -1 - i])\n",
    "        \n",
    "plt.tight_layout()"
   ]
  },
  {
   "cell_type": "code",
   "execution_count": 9,
   "id": "26ffff69",
   "metadata": {},
   "outputs": [],
   "source": [
    "# We note that some of the images have large black areas arrond the brain scan,\n",
    "# thus we decided to crop the image such that only the brain scan would remain."
   ]
  },
  {
   "cell_type": "code",
   "execution_count": 10,
   "id": "4f247d65",
   "metadata": {},
   "outputs": [],
   "source": [
    "def crop_imgs(set_name, add_pixels_value=0):\n",
    "    \"\"\"\n",
    "    Finds the extreme points on the image and crops the rectangular out of them\n",
    "    \"\"\"\n",
    "    set_new = []\n",
    "    i=0\n",
    "    for img in set_name:\n",
    "        if len(img.shape) == 3:\n",
    "            gray = cv2.cvtColor(img, cv2.COLOR_RGB2GRAY)\n",
    "        gray = cv2.GaussianBlur(gray, (5, 5), 0)\n",
    "\n",
    "                # dilations to remove any small regions of noise\n",
    "        thresh = cv2.threshold(gray, 45, 255, cv2.THRESH_BINARY)[1]\n",
    "        thresh = cv2.erode(thresh, None, iterations=2)\n",
    "        thresh = cv2.dilate(thresh, None, iterations=2)\n",
    "\n",
    "        # find contours in thresholded image, then grab the largest one\n",
    "        cnts = cv2.findContours(thresh.copy(), cv2.RETR_EXTERNAL, cv2.CHAIN_APPROX_SIMPLE)\n",
    "        cnts = imutils.grab_contours(cnts)\n",
    "        c = max(cnts, key=cv2.contourArea)\n",
    "\n",
    "        # find the extreme points\n",
    "        extLeft = tuple(c[c[:, :, 0].argmin()][0])\n",
    "        extRight = tuple(c[c[:, :, 0].argmax()][0])\n",
    "        extTop = tuple(c[c[:, :, 1].argmin()][0])\n",
    "        extBot = tuple(c[c[:, :, 1].argmax()][0])\n",
    "\n",
    "        # add contour on the image\n",
    "        img_cnt = cv2.drawContours(img.copy(), [c], -1, (0, 255, 255), 4)\n",
    "\n",
    "        # add extreme points\n",
    "        img_pnt = cv2.circle(img_cnt.copy(), extLeft, 8, (0, 0, 255), -1)\n",
    "        img_pnt = cv2.circle(img_pnt, extRight, 8, (0, 255, 0), -1)\n",
    "        img_pnt = cv2.circle(img_pnt, extTop, 8, (255, 0, 0), -1)\n",
    "        img_pnt = cv2.circle(img_pnt, extBot, 8, (255, 255, 0), -1)\n",
    "\n",
    "        # crop\n",
    "        ADD_PIXELS = 0\n",
    "        new_img = img[extTop[1]-ADD_PIXELS:extBot[1]+ADD_PIXELS, extLeft[0]-ADD_PIXELS:extRight[0]+ADD_PIXELS].copy()\n",
    "#         if new_img.shape[0] > IMG_SIZE:\n",
    "#             print('img: ', img.shape)\n",
    "#             print('new_img: ', new_img.shape)\n",
    "        new_img = cv2.resize(new_img, (IMG_SIZE, IMG_SIZE) , interpolation=cv2.INTER_CUBIC)\n",
    "        new_img = cv2.cvtColor(new_img, cv2.COLOR_RGB2GRAY)\n",
    "        set_new.append(np.asarray(new_img))\n",
    "        \n",
    "        if i % 25 == 0:\n",
    "            plt.figure(figsize=(15,6))\n",
    "            plt.subplot(141)\n",
    "            plt.imshow(img,cmap='gray')\n",
    "            plt.xticks([])\n",
    "            plt.yticks([])\n",
    "            plt.title('Step 1. Get the original image')\n",
    "            plt.subplot(142)\n",
    "            plt.imshow(img_cnt,cmap='gray')\n",
    "            plt.xticks([])\n",
    "            plt.yticks([])\n",
    "            plt.title('Step 2. Find the biggest contour')\n",
    "            plt.subplot(143)\n",
    "            plt.imshow(img_pnt,cmap='gray')\n",
    "            plt.xticks([])\n",
    "            plt.yticks([])\n",
    "            plt.title('Step 3. Find the extreme points')\n",
    "            plt.subplot(144)\n",
    "            plt.imshow(new_img,cmap='gray')\n",
    "            plt.xticks([])\n",
    "            plt.yticks([])\n",
    "            plt.title('Step 4. Crop and resize the image')\n",
    "        \n",
    "        i= i+1\n",
    "        plt.show()\n",
    "    return set_new\n",
    "    "
   ]
  },
  {
   "cell_type": "code",
   "execution_count": 11,
   "id": "967756a1",
   "metadata": {},
   "outputs": [],
   "source": [
    "# Label encoding:\n",
    "# 'No' = 0\n",
    "\n",
    "# 'Yes' = 1"
   ]
  },
  {
   "cell_type": "code",
   "execution_count": 12,
   "id": "f5faa7be",
   "metadata": {},
   "outputs": [],
   "source": [
    "Y = np.array(Z)\n",
    "Y = np.where(Y=='No', 0, Y)\n",
    "Y = np.where(Y=='Yes', 1, Y)\n",
    "Y = Y.astype('int32')"
   ]
  },
  {
   "cell_type": "code",
   "execution_count": 13,
   "id": "25dd879b",
   "metadata": {},
   "outputs": [
    {
     "data": {
      "text/plain": [
       "array([0, 0, 0, ..., 1, 1, 1])"
      ]
     },
     "execution_count": 13,
     "metadata": {},
     "output_type": "execute_result"
    }
   ],
   "source": [
    "Y"
   ]
  },
  {
   "cell_type": "markdown",
   "id": "8b18c8b4",
   "metadata": {},
   "source": [
    "# Normalization and flatten the images:"
   ]
  },
  {
   "cell_type": "code",
   "execution_count": 14,
   "id": "ce867f62",
   "metadata": {},
   "outputs": [],
   "source": [
    "X = np.array([cv2.normalize(X[i], None, 0, 255, cv2.NORM_MINMAX) for i in range(len(X))]) # normalization\n",
    "X=np.array(X)/255\n",
    "# X = X.flatten().reshape(len(X), (IMG_SIZE ** 2) * 3) # 3 is because it is RGB image \n",
    "X = X.flatten().reshape(len(X), (IMG_SIZE ** 2))"
   ]
  },
  {
   "cell_type": "code",
   "execution_count": 15,
   "id": "2eb6d529",
   "metadata": {},
   "outputs": [
    {
     "data": {
      "text/html": [
       "<div>\n",
       "<style scoped>\n",
       "    .dataframe tbody tr th:only-of-type {\n",
       "        vertical-align: middle;\n",
       "    }\n",
       "\n",
       "    .dataframe tbody tr th {\n",
       "        vertical-align: top;\n",
       "    }\n",
       "\n",
       "    .dataframe thead th {\n",
       "        text-align: right;\n",
       "    }\n",
       "</style>\n",
       "<table border=\"1\" class=\"dataframe\">\n",
       "  <thead>\n",
       "    <tr style=\"text-align: right;\">\n",
       "      <th></th>\n",
       "      <th>target</th>\n",
       "      <th>0</th>\n",
       "      <th>1</th>\n",
       "      <th>2</th>\n",
       "      <th>3</th>\n",
       "      <th>4</th>\n",
       "      <th>5</th>\n",
       "      <th>6</th>\n",
       "      <th>7</th>\n",
       "      <th>8</th>\n",
       "      <th>...</th>\n",
       "      <th>4086</th>\n",
       "      <th>4087</th>\n",
       "      <th>4088</th>\n",
       "      <th>4089</th>\n",
       "      <th>4090</th>\n",
       "      <th>4091</th>\n",
       "      <th>4092</th>\n",
       "      <th>4093</th>\n",
       "      <th>4094</th>\n",
       "      <th>4095</th>\n",
       "    </tr>\n",
       "  </thead>\n",
       "  <tbody>\n",
       "    <tr>\n",
       "      <th>0</th>\n",
       "      <td>0</td>\n",
       "      <td>0.000000</td>\n",
       "      <td>0.000000</td>\n",
       "      <td>0.000000</td>\n",
       "      <td>0.000000</td>\n",
       "      <td>0.000000</td>\n",
       "      <td>0.000000</td>\n",
       "      <td>0.000000</td>\n",
       "      <td>0.000000</td>\n",
       "      <td>0.000000</td>\n",
       "      <td>...</td>\n",
       "      <td>0.000000</td>\n",
       "      <td>0.000000</td>\n",
       "      <td>0.000000</td>\n",
       "      <td>0.000000</td>\n",
       "      <td>0.000000</td>\n",
       "      <td>0.000000</td>\n",
       "      <td>0.000000</td>\n",
       "      <td>0.000000</td>\n",
       "      <td>0.0</td>\n",
       "      <td>0.0</td>\n",
       "    </tr>\n",
       "    <tr>\n",
       "      <th>1</th>\n",
       "      <td>0</td>\n",
       "      <td>0.000000</td>\n",
       "      <td>0.000000</td>\n",
       "      <td>0.007843</td>\n",
       "      <td>0.000000</td>\n",
       "      <td>0.031373</td>\n",
       "      <td>0.035294</td>\n",
       "      <td>0.035294</td>\n",
       "      <td>0.035294</td>\n",
       "      <td>0.035294</td>\n",
       "      <td>...</td>\n",
       "      <td>0.035294</td>\n",
       "      <td>0.035294</td>\n",
       "      <td>0.035294</td>\n",
       "      <td>0.035294</td>\n",
       "      <td>0.035294</td>\n",
       "      <td>0.031373</td>\n",
       "      <td>0.000000</td>\n",
       "      <td>0.000000</td>\n",
       "      <td>0.0</td>\n",
       "      <td>0.0</td>\n",
       "    </tr>\n",
       "    <tr>\n",
       "      <th>2</th>\n",
       "      <td>0</td>\n",
       "      <td>0.000000</td>\n",
       "      <td>0.000000</td>\n",
       "      <td>0.000000</td>\n",
       "      <td>0.000000</td>\n",
       "      <td>0.000000</td>\n",
       "      <td>0.000000</td>\n",
       "      <td>0.000000</td>\n",
       "      <td>0.000000</td>\n",
       "      <td>0.000000</td>\n",
       "      <td>...</td>\n",
       "      <td>0.000000</td>\n",
       "      <td>0.000000</td>\n",
       "      <td>0.000000</td>\n",
       "      <td>0.000000</td>\n",
       "      <td>0.000000</td>\n",
       "      <td>0.000000</td>\n",
       "      <td>0.000000</td>\n",
       "      <td>0.000000</td>\n",
       "      <td>0.0</td>\n",
       "      <td>0.0</td>\n",
       "    </tr>\n",
       "    <tr>\n",
       "      <th>3</th>\n",
       "      <td>0</td>\n",
       "      <td>0.000000</td>\n",
       "      <td>0.000000</td>\n",
       "      <td>0.000000</td>\n",
       "      <td>0.000000</td>\n",
       "      <td>0.000000</td>\n",
       "      <td>0.000000</td>\n",
       "      <td>0.000000</td>\n",
       "      <td>0.000000</td>\n",
       "      <td>0.000000</td>\n",
       "      <td>...</td>\n",
       "      <td>0.023529</td>\n",
       "      <td>0.019608</td>\n",
       "      <td>0.027451</td>\n",
       "      <td>0.019608</td>\n",
       "      <td>0.023529</td>\n",
       "      <td>0.027451</td>\n",
       "      <td>0.027451</td>\n",
       "      <td>0.023529</td>\n",
       "      <td>0.0</td>\n",
       "      <td>0.0</td>\n",
       "    </tr>\n",
       "    <tr>\n",
       "      <th>4</th>\n",
       "      <td>0</td>\n",
       "      <td>0.211765</td>\n",
       "      <td>0.211765</td>\n",
       "      <td>0.211765</td>\n",
       "      <td>0.211765</td>\n",
       "      <td>0.211765</td>\n",
       "      <td>0.211765</td>\n",
       "      <td>0.207843</td>\n",
       "      <td>0.211765</td>\n",
       "      <td>0.266667</td>\n",
       "      <td>...</td>\n",
       "      <td>0.003922</td>\n",
       "      <td>0.007843</td>\n",
       "      <td>0.000000</td>\n",
       "      <td>0.000000</td>\n",
       "      <td>0.000000</td>\n",
       "      <td>0.000000</td>\n",
       "      <td>0.000000</td>\n",
       "      <td>0.000000</td>\n",
       "      <td>0.0</td>\n",
       "      <td>0.0</td>\n",
       "    </tr>\n",
       "    <tr>\n",
       "      <th>...</th>\n",
       "      <td>...</td>\n",
       "      <td>...</td>\n",
       "      <td>...</td>\n",
       "      <td>...</td>\n",
       "      <td>...</td>\n",
       "      <td>...</td>\n",
       "      <td>...</td>\n",
       "      <td>...</td>\n",
       "      <td>...</td>\n",
       "      <td>...</td>\n",
       "      <td>...</td>\n",
       "      <td>...</td>\n",
       "      <td>...</td>\n",
       "      <td>...</td>\n",
       "      <td>...</td>\n",
       "      <td>...</td>\n",
       "      <td>...</td>\n",
       "      <td>...</td>\n",
       "      <td>...</td>\n",
       "      <td>...</td>\n",
       "      <td>...</td>\n",
       "    </tr>\n",
       "    <tr>\n",
       "      <th>5280</th>\n",
       "      <td>1</td>\n",
       "      <td>0.000000</td>\n",
       "      <td>0.000000</td>\n",
       "      <td>0.000000</td>\n",
       "      <td>0.000000</td>\n",
       "      <td>0.000000</td>\n",
       "      <td>0.000000</td>\n",
       "      <td>0.000000</td>\n",
       "      <td>0.000000</td>\n",
       "      <td>0.000000</td>\n",
       "      <td>...</td>\n",
       "      <td>0.000000</td>\n",
       "      <td>0.000000</td>\n",
       "      <td>0.000000</td>\n",
       "      <td>0.000000</td>\n",
       "      <td>0.000000</td>\n",
       "      <td>0.000000</td>\n",
       "      <td>0.000000</td>\n",
       "      <td>0.000000</td>\n",
       "      <td>0.0</td>\n",
       "      <td>0.0</td>\n",
       "    </tr>\n",
       "    <tr>\n",
       "      <th>5281</th>\n",
       "      <td>1</td>\n",
       "      <td>0.000000</td>\n",
       "      <td>0.000000</td>\n",
       "      <td>0.000000</td>\n",
       "      <td>0.000000</td>\n",
       "      <td>0.000000</td>\n",
       "      <td>0.000000</td>\n",
       "      <td>0.000000</td>\n",
       "      <td>0.000000</td>\n",
       "      <td>0.000000</td>\n",
       "      <td>...</td>\n",
       "      <td>0.000000</td>\n",
       "      <td>0.000000</td>\n",
       "      <td>0.000000</td>\n",
       "      <td>0.000000</td>\n",
       "      <td>0.000000</td>\n",
       "      <td>0.000000</td>\n",
       "      <td>0.000000</td>\n",
       "      <td>0.000000</td>\n",
       "      <td>0.0</td>\n",
       "      <td>0.0</td>\n",
       "    </tr>\n",
       "    <tr>\n",
       "      <th>5282</th>\n",
       "      <td>1</td>\n",
       "      <td>0.000000</td>\n",
       "      <td>0.000000</td>\n",
       "      <td>0.000000</td>\n",
       "      <td>0.000000</td>\n",
       "      <td>0.000000</td>\n",
       "      <td>0.000000</td>\n",
       "      <td>0.000000</td>\n",
       "      <td>0.000000</td>\n",
       "      <td>0.000000</td>\n",
       "      <td>...</td>\n",
       "      <td>0.000000</td>\n",
       "      <td>0.000000</td>\n",
       "      <td>0.000000</td>\n",
       "      <td>0.000000</td>\n",
       "      <td>0.000000</td>\n",
       "      <td>0.000000</td>\n",
       "      <td>0.000000</td>\n",
       "      <td>0.000000</td>\n",
       "      <td>0.0</td>\n",
       "      <td>0.0</td>\n",
       "    </tr>\n",
       "    <tr>\n",
       "      <th>5283</th>\n",
       "      <td>1</td>\n",
       "      <td>0.000000</td>\n",
       "      <td>0.000000</td>\n",
       "      <td>0.000000</td>\n",
       "      <td>0.000000</td>\n",
       "      <td>0.000000</td>\n",
       "      <td>0.000000</td>\n",
       "      <td>0.000000</td>\n",
       "      <td>0.172549</td>\n",
       "      <td>0.447059</td>\n",
       "      <td>...</td>\n",
       "      <td>0.000000</td>\n",
       "      <td>0.000000</td>\n",
       "      <td>0.000000</td>\n",
       "      <td>0.000000</td>\n",
       "      <td>0.000000</td>\n",
       "      <td>0.000000</td>\n",
       "      <td>0.000000</td>\n",
       "      <td>0.000000</td>\n",
       "      <td>0.0</td>\n",
       "      <td>0.0</td>\n",
       "    </tr>\n",
       "    <tr>\n",
       "      <th>5284</th>\n",
       "      <td>1</td>\n",
       "      <td>0.000000</td>\n",
       "      <td>0.000000</td>\n",
       "      <td>0.000000</td>\n",
       "      <td>0.000000</td>\n",
       "      <td>0.000000</td>\n",
       "      <td>0.000000</td>\n",
       "      <td>0.000000</td>\n",
       "      <td>0.000000</td>\n",
       "      <td>0.000000</td>\n",
       "      <td>...</td>\n",
       "      <td>0.000000</td>\n",
       "      <td>0.000000</td>\n",
       "      <td>0.000000</td>\n",
       "      <td>0.000000</td>\n",
       "      <td>0.000000</td>\n",
       "      <td>0.000000</td>\n",
       "      <td>0.000000</td>\n",
       "      <td>0.000000</td>\n",
       "      <td>0.0</td>\n",
       "      <td>0.0</td>\n",
       "    </tr>\n",
       "  </tbody>\n",
       "</table>\n",
       "<p>5285 rows × 4097 columns</p>\n",
       "</div>"
      ],
      "text/plain": [
       "      target         0         1         2         3         4         5  \\\n",
       "0          0  0.000000  0.000000  0.000000  0.000000  0.000000  0.000000   \n",
       "1          0  0.000000  0.000000  0.007843  0.000000  0.031373  0.035294   \n",
       "2          0  0.000000  0.000000  0.000000  0.000000  0.000000  0.000000   \n",
       "3          0  0.000000  0.000000  0.000000  0.000000  0.000000  0.000000   \n",
       "4          0  0.211765  0.211765  0.211765  0.211765  0.211765  0.211765   \n",
       "...      ...       ...       ...       ...       ...       ...       ...   \n",
       "5280       1  0.000000  0.000000  0.000000  0.000000  0.000000  0.000000   \n",
       "5281       1  0.000000  0.000000  0.000000  0.000000  0.000000  0.000000   \n",
       "5282       1  0.000000  0.000000  0.000000  0.000000  0.000000  0.000000   \n",
       "5283       1  0.000000  0.000000  0.000000  0.000000  0.000000  0.000000   \n",
       "5284       1  0.000000  0.000000  0.000000  0.000000  0.000000  0.000000   \n",
       "\n",
       "             6         7         8  ...      4086      4087      4088  \\\n",
       "0     0.000000  0.000000  0.000000  ...  0.000000  0.000000  0.000000   \n",
       "1     0.035294  0.035294  0.035294  ...  0.035294  0.035294  0.035294   \n",
       "2     0.000000  0.000000  0.000000  ...  0.000000  0.000000  0.000000   \n",
       "3     0.000000  0.000000  0.000000  ...  0.023529  0.019608  0.027451   \n",
       "4     0.207843  0.211765  0.266667  ...  0.003922  0.007843  0.000000   \n",
       "...        ...       ...       ...  ...       ...       ...       ...   \n",
       "5280  0.000000  0.000000  0.000000  ...  0.000000  0.000000  0.000000   \n",
       "5281  0.000000  0.000000  0.000000  ...  0.000000  0.000000  0.000000   \n",
       "5282  0.000000  0.000000  0.000000  ...  0.000000  0.000000  0.000000   \n",
       "5283  0.000000  0.172549  0.447059  ...  0.000000  0.000000  0.000000   \n",
       "5284  0.000000  0.000000  0.000000  ...  0.000000  0.000000  0.000000   \n",
       "\n",
       "          4089      4090      4091      4092      4093  4094  4095  \n",
       "0     0.000000  0.000000  0.000000  0.000000  0.000000   0.0   0.0  \n",
       "1     0.035294  0.035294  0.031373  0.000000  0.000000   0.0   0.0  \n",
       "2     0.000000  0.000000  0.000000  0.000000  0.000000   0.0   0.0  \n",
       "3     0.019608  0.023529  0.027451  0.027451  0.023529   0.0   0.0  \n",
       "4     0.000000  0.000000  0.000000  0.000000  0.000000   0.0   0.0  \n",
       "...        ...       ...       ...       ...       ...   ...   ...  \n",
       "5280  0.000000  0.000000  0.000000  0.000000  0.000000   0.0   0.0  \n",
       "5281  0.000000  0.000000  0.000000  0.000000  0.000000   0.0   0.0  \n",
       "5282  0.000000  0.000000  0.000000  0.000000  0.000000   0.0   0.0  \n",
       "5283  0.000000  0.000000  0.000000  0.000000  0.000000   0.0   0.0  \n",
       "5284  0.000000  0.000000  0.000000  0.000000  0.000000   0.0   0.0  \n",
       "\n",
       "[5285 rows x 4097 columns]"
      ]
     },
     "execution_count": 15,
     "metadata": {},
     "output_type": "execute_result"
    }
   ],
   "source": [
    "#our dataset\n",
    "df_y = pd.DataFrame({'target':Y})\n",
    "df_X = pd.DataFrame(X)\n",
    "df = pd.DataFrame(data=pd.concat([df_y, df_X], axis=1))\n",
    "df"
   ]
  },
  {
   "cell_type": "markdown",
   "id": "62f2efa4",
   "metadata": {},
   "source": [
    "# Dealing with unbalcne data-set - Up-sample Minority Class:"
   ]
  },
  {
   "cell_type": "code",
   "execution_count": 16,
   "id": "ae8ae840",
   "metadata": {},
   "outputs": [],
   "source": [
    "# Separate majority and minority classes\n",
    "df_majority = df[df.target==1]\n",
    "df_minority = df[df.target==0]\n",
    " \n",
    "# Upsample minority class\n",
    "df_minority_upsampled = resample(df_minority, \n",
    "                                 replace=True,     # sample with replacement\n",
    "                                 n_samples=len(df_majority),    # to match majority class\n",
    "                                 random_state=rs) # reproducible results\n",
    " \n",
    "# Combine majority class with upsampled minority class\n",
    "df_upsampled = pd.concat([df_majority, df_minority_upsampled])"
   ]
  },
  {
   "cell_type": "code",
   "execution_count": 17,
   "id": "a050b291",
   "metadata": {},
   "outputs": [
    {
     "data": {
      "text/html": [
       "<div>\n",
       "<style scoped>\n",
       "    .dataframe tbody tr th:only-of-type {\n",
       "        vertical-align: middle;\n",
       "    }\n",
       "\n",
       "    .dataframe tbody tr th {\n",
       "        vertical-align: top;\n",
       "    }\n",
       "\n",
       "    .dataframe thead th {\n",
       "        text-align: right;\n",
       "    }\n",
       "</style>\n",
       "<table border=\"1\" class=\"dataframe\">\n",
       "  <thead>\n",
       "    <tr style=\"text-align: right;\">\n",
       "      <th></th>\n",
       "      <th>target</th>\n",
       "      <th>0</th>\n",
       "      <th>1</th>\n",
       "      <th>2</th>\n",
       "      <th>3</th>\n",
       "      <th>4</th>\n",
       "      <th>5</th>\n",
       "      <th>6</th>\n",
       "      <th>7</th>\n",
       "      <th>8</th>\n",
       "      <th>...</th>\n",
       "      <th>4086</th>\n",
       "      <th>4087</th>\n",
       "      <th>4088</th>\n",
       "      <th>4089</th>\n",
       "      <th>4090</th>\n",
       "      <th>4091</th>\n",
       "      <th>4092</th>\n",
       "      <th>4093</th>\n",
       "      <th>4094</th>\n",
       "      <th>4095</th>\n",
       "    </tr>\n",
       "  </thead>\n",
       "  <tbody>\n",
       "    <tr>\n",
       "      <th>2607</th>\n",
       "      <td>1</td>\n",
       "      <td>0.000000</td>\n",
       "      <td>0.000000</td>\n",
       "      <td>0.000000</td>\n",
       "      <td>0.000000</td>\n",
       "      <td>0.000000</td>\n",
       "      <td>0.000000</td>\n",
       "      <td>0.000000</td>\n",
       "      <td>0.000000</td>\n",
       "      <td>0.000000</td>\n",
       "      <td>...</td>\n",
       "      <td>0.000000</td>\n",
       "      <td>0.000000</td>\n",
       "      <td>0.000000</td>\n",
       "      <td>0.000000</td>\n",
       "      <td>0.000000</td>\n",
       "      <td>0.000000</td>\n",
       "      <td>0.000000</td>\n",
       "      <td>0.000000</td>\n",
       "      <td>0.000000</td>\n",
       "      <td>0.000000</td>\n",
       "    </tr>\n",
       "    <tr>\n",
       "      <th>2608</th>\n",
       "      <td>1</td>\n",
       "      <td>0.000000</td>\n",
       "      <td>0.000000</td>\n",
       "      <td>0.000000</td>\n",
       "      <td>0.000000</td>\n",
       "      <td>0.000000</td>\n",
       "      <td>0.000000</td>\n",
       "      <td>0.000000</td>\n",
       "      <td>0.000000</td>\n",
       "      <td>0.000000</td>\n",
       "      <td>...</td>\n",
       "      <td>0.000000</td>\n",
       "      <td>0.000000</td>\n",
       "      <td>0.000000</td>\n",
       "      <td>0.000000</td>\n",
       "      <td>0.000000</td>\n",
       "      <td>0.000000</td>\n",
       "      <td>0.000000</td>\n",
       "      <td>0.000000</td>\n",
       "      <td>0.000000</td>\n",
       "      <td>0.000000</td>\n",
       "    </tr>\n",
       "    <tr>\n",
       "      <th>2609</th>\n",
       "      <td>1</td>\n",
       "      <td>0.000000</td>\n",
       "      <td>0.000000</td>\n",
       "      <td>0.000000</td>\n",
       "      <td>0.000000</td>\n",
       "      <td>0.000000</td>\n",
       "      <td>0.000000</td>\n",
       "      <td>0.000000</td>\n",
       "      <td>0.000000</td>\n",
       "      <td>0.000000</td>\n",
       "      <td>...</td>\n",
       "      <td>0.000000</td>\n",
       "      <td>0.000000</td>\n",
       "      <td>0.000000</td>\n",
       "      <td>0.000000</td>\n",
       "      <td>0.000000</td>\n",
       "      <td>0.000000</td>\n",
       "      <td>0.000000</td>\n",
       "      <td>0.000000</td>\n",
       "      <td>0.000000</td>\n",
       "      <td>0.000000</td>\n",
       "    </tr>\n",
       "    <tr>\n",
       "      <th>2610</th>\n",
       "      <td>1</td>\n",
       "      <td>0.000000</td>\n",
       "      <td>0.000000</td>\n",
       "      <td>0.000000</td>\n",
       "      <td>0.000000</td>\n",
       "      <td>0.000000</td>\n",
       "      <td>0.000000</td>\n",
       "      <td>0.000000</td>\n",
       "      <td>0.000000</td>\n",
       "      <td>0.000000</td>\n",
       "      <td>...</td>\n",
       "      <td>0.349020</td>\n",
       "      <td>0.380392</td>\n",
       "      <td>0.388235</td>\n",
       "      <td>0.192157</td>\n",
       "      <td>0.019608</td>\n",
       "      <td>0.007843</td>\n",
       "      <td>0.000000</td>\n",
       "      <td>0.000000</td>\n",
       "      <td>0.000000</td>\n",
       "      <td>0.000000</td>\n",
       "    </tr>\n",
       "    <tr>\n",
       "      <th>2611</th>\n",
       "      <td>1</td>\n",
       "      <td>0.000000</td>\n",
       "      <td>0.000000</td>\n",
       "      <td>0.000000</td>\n",
       "      <td>0.000000</td>\n",
       "      <td>0.000000</td>\n",
       "      <td>0.000000</td>\n",
       "      <td>0.000000</td>\n",
       "      <td>0.000000</td>\n",
       "      <td>0.000000</td>\n",
       "      <td>...</td>\n",
       "      <td>0.000000</td>\n",
       "      <td>0.000000</td>\n",
       "      <td>0.000000</td>\n",
       "      <td>0.000000</td>\n",
       "      <td>0.000000</td>\n",
       "      <td>0.000000</td>\n",
       "      <td>0.000000</td>\n",
       "      <td>0.000000</td>\n",
       "      <td>0.000000</td>\n",
       "      <td>0.000000</td>\n",
       "    </tr>\n",
       "    <tr>\n",
       "      <th>...</th>\n",
       "      <td>...</td>\n",
       "      <td>...</td>\n",
       "      <td>...</td>\n",
       "      <td>...</td>\n",
       "      <td>...</td>\n",
       "      <td>...</td>\n",
       "      <td>...</td>\n",
       "      <td>...</td>\n",
       "      <td>...</td>\n",
       "      <td>...</td>\n",
       "      <td>...</td>\n",
       "      <td>...</td>\n",
       "      <td>...</td>\n",
       "      <td>...</td>\n",
       "      <td>...</td>\n",
       "      <td>...</td>\n",
       "      <td>...</td>\n",
       "      <td>...</td>\n",
       "      <td>...</td>\n",
       "      <td>...</td>\n",
       "      <td>...</td>\n",
       "    </tr>\n",
       "    <tr>\n",
       "      <th>1152</th>\n",
       "      <td>0</td>\n",
       "      <td>0.000000</td>\n",
       "      <td>0.000000</td>\n",
       "      <td>0.000000</td>\n",
       "      <td>0.000000</td>\n",
       "      <td>0.000000</td>\n",
       "      <td>0.000000</td>\n",
       "      <td>0.000000</td>\n",
       "      <td>0.000000</td>\n",
       "      <td>0.000000</td>\n",
       "      <td>...</td>\n",
       "      <td>0.000000</td>\n",
       "      <td>0.000000</td>\n",
       "      <td>0.007843</td>\n",
       "      <td>0.007843</td>\n",
       "      <td>0.003922</td>\n",
       "      <td>0.000000</td>\n",
       "      <td>0.000000</td>\n",
       "      <td>0.000000</td>\n",
       "      <td>0.000000</td>\n",
       "      <td>0.000000</td>\n",
       "    </tr>\n",
       "    <tr>\n",
       "      <th>574</th>\n",
       "      <td>0</td>\n",
       "      <td>0.007843</td>\n",
       "      <td>0.003922</td>\n",
       "      <td>0.015686</td>\n",
       "      <td>0.011765</td>\n",
       "      <td>0.007843</td>\n",
       "      <td>0.011765</td>\n",
       "      <td>0.015686</td>\n",
       "      <td>0.003922</td>\n",
       "      <td>0.015686</td>\n",
       "      <td>...</td>\n",
       "      <td>0.015686</td>\n",
       "      <td>0.015686</td>\n",
       "      <td>0.003922</td>\n",
       "      <td>0.015686</td>\n",
       "      <td>0.011765</td>\n",
       "      <td>0.007843</td>\n",
       "      <td>0.003922</td>\n",
       "      <td>0.003922</td>\n",
       "      <td>0.007843</td>\n",
       "      <td>0.015686</td>\n",
       "    </tr>\n",
       "    <tr>\n",
       "      <th>1910</th>\n",
       "      <td>0</td>\n",
       "      <td>0.000000</td>\n",
       "      <td>0.000000</td>\n",
       "      <td>0.000000</td>\n",
       "      <td>0.000000</td>\n",
       "      <td>0.000000</td>\n",
       "      <td>0.000000</td>\n",
       "      <td>0.000000</td>\n",
       "      <td>0.000000</td>\n",
       "      <td>0.000000</td>\n",
       "      <td>...</td>\n",
       "      <td>0.000000</td>\n",
       "      <td>0.000000</td>\n",
       "      <td>0.000000</td>\n",
       "      <td>0.000000</td>\n",
       "      <td>0.000000</td>\n",
       "      <td>0.000000</td>\n",
       "      <td>0.000000</td>\n",
       "      <td>0.000000</td>\n",
       "      <td>0.000000</td>\n",
       "      <td>0.000000</td>\n",
       "    </tr>\n",
       "    <tr>\n",
       "      <th>1012</th>\n",
       "      <td>0</td>\n",
       "      <td>0.000000</td>\n",
       "      <td>0.000000</td>\n",
       "      <td>0.000000</td>\n",
       "      <td>0.000000</td>\n",
       "      <td>0.000000</td>\n",
       "      <td>0.000000</td>\n",
       "      <td>0.000000</td>\n",
       "      <td>0.000000</td>\n",
       "      <td>0.000000</td>\n",
       "      <td>...</td>\n",
       "      <td>0.000000</td>\n",
       "      <td>0.000000</td>\n",
       "      <td>0.000000</td>\n",
       "      <td>0.000000</td>\n",
       "      <td>0.000000</td>\n",
       "      <td>0.000000</td>\n",
       "      <td>0.000000</td>\n",
       "      <td>0.000000</td>\n",
       "      <td>0.000000</td>\n",
       "      <td>0.000000</td>\n",
       "    </tr>\n",
       "    <tr>\n",
       "      <th>669</th>\n",
       "      <td>0</td>\n",
       "      <td>0.003922</td>\n",
       "      <td>0.003922</td>\n",
       "      <td>0.000000</td>\n",
       "      <td>0.027451</td>\n",
       "      <td>0.035294</td>\n",
       "      <td>0.035294</td>\n",
       "      <td>0.035294</td>\n",
       "      <td>0.035294</td>\n",
       "      <td>0.035294</td>\n",
       "      <td>...</td>\n",
       "      <td>0.035294</td>\n",
       "      <td>0.035294</td>\n",
       "      <td>0.035294</td>\n",
       "      <td>0.035294</td>\n",
       "      <td>0.035294</td>\n",
       "      <td>0.035294</td>\n",
       "      <td>0.039216</td>\n",
       "      <td>0.003922</td>\n",
       "      <td>0.000000</td>\n",
       "      <td>0.000000</td>\n",
       "    </tr>\n",
       "  </tbody>\n",
       "</table>\n",
       "<p>5356 rows × 4097 columns</p>\n",
       "</div>"
      ],
      "text/plain": [
       "      target         0         1         2         3         4         5  \\\n",
       "2607       1  0.000000  0.000000  0.000000  0.000000  0.000000  0.000000   \n",
       "2608       1  0.000000  0.000000  0.000000  0.000000  0.000000  0.000000   \n",
       "2609       1  0.000000  0.000000  0.000000  0.000000  0.000000  0.000000   \n",
       "2610       1  0.000000  0.000000  0.000000  0.000000  0.000000  0.000000   \n",
       "2611       1  0.000000  0.000000  0.000000  0.000000  0.000000  0.000000   \n",
       "...      ...       ...       ...       ...       ...       ...       ...   \n",
       "1152       0  0.000000  0.000000  0.000000  0.000000  0.000000  0.000000   \n",
       "574        0  0.007843  0.003922  0.015686  0.011765  0.007843  0.011765   \n",
       "1910       0  0.000000  0.000000  0.000000  0.000000  0.000000  0.000000   \n",
       "1012       0  0.000000  0.000000  0.000000  0.000000  0.000000  0.000000   \n",
       "669        0  0.003922  0.003922  0.000000  0.027451  0.035294  0.035294   \n",
       "\n",
       "             6         7         8  ...      4086      4087      4088  \\\n",
       "2607  0.000000  0.000000  0.000000  ...  0.000000  0.000000  0.000000   \n",
       "2608  0.000000  0.000000  0.000000  ...  0.000000  0.000000  0.000000   \n",
       "2609  0.000000  0.000000  0.000000  ...  0.000000  0.000000  0.000000   \n",
       "2610  0.000000  0.000000  0.000000  ...  0.349020  0.380392  0.388235   \n",
       "2611  0.000000  0.000000  0.000000  ...  0.000000  0.000000  0.000000   \n",
       "...        ...       ...       ...  ...       ...       ...       ...   \n",
       "1152  0.000000  0.000000  0.000000  ...  0.000000  0.000000  0.007843   \n",
       "574   0.015686  0.003922  0.015686  ...  0.015686  0.015686  0.003922   \n",
       "1910  0.000000  0.000000  0.000000  ...  0.000000  0.000000  0.000000   \n",
       "1012  0.000000  0.000000  0.000000  ...  0.000000  0.000000  0.000000   \n",
       "669   0.035294  0.035294  0.035294  ...  0.035294  0.035294  0.035294   \n",
       "\n",
       "          4089      4090      4091      4092      4093      4094      4095  \n",
       "2607  0.000000  0.000000  0.000000  0.000000  0.000000  0.000000  0.000000  \n",
       "2608  0.000000  0.000000  0.000000  0.000000  0.000000  0.000000  0.000000  \n",
       "2609  0.000000  0.000000  0.000000  0.000000  0.000000  0.000000  0.000000  \n",
       "2610  0.192157  0.019608  0.007843  0.000000  0.000000  0.000000  0.000000  \n",
       "2611  0.000000  0.000000  0.000000  0.000000  0.000000  0.000000  0.000000  \n",
       "...        ...       ...       ...       ...       ...       ...       ...  \n",
       "1152  0.007843  0.003922  0.000000  0.000000  0.000000  0.000000  0.000000  \n",
       "574   0.015686  0.011765  0.007843  0.003922  0.003922  0.007843  0.015686  \n",
       "1910  0.000000  0.000000  0.000000  0.000000  0.000000  0.000000  0.000000  \n",
       "1012  0.000000  0.000000  0.000000  0.000000  0.000000  0.000000  0.000000  \n",
       "669   0.035294  0.035294  0.035294  0.039216  0.003922  0.000000  0.000000  \n",
       "\n",
       "[5356 rows x 4097 columns]"
      ]
     },
     "execution_count": 17,
     "metadata": {},
     "output_type": "execute_result"
    }
   ],
   "source": [
    "df_upsampled"
   ]
  },
  {
   "cell_type": "markdown",
   "id": "04658986",
   "metadata": {},
   "source": [
    "# Train Test Split"
   ]
  },
  {
   "cell_type": "code",
   "execution_count": 18,
   "id": "27f50583",
   "metadata": {},
   "outputs": [
    {
     "data": {
      "text/html": [
       "<div>\n",
       "<style scoped>\n",
       "    .dataframe tbody tr th:only-of-type {\n",
       "        vertical-align: middle;\n",
       "    }\n",
       "\n",
       "    .dataframe tbody tr th {\n",
       "        vertical-align: top;\n",
       "    }\n",
       "\n",
       "    .dataframe thead th {\n",
       "        text-align: right;\n",
       "    }\n",
       "</style>\n",
       "<table border=\"1\" class=\"dataframe\">\n",
       "  <thead>\n",
       "    <tr style=\"text-align: right;\">\n",
       "      <th></th>\n",
       "      <th>Training dataset</th>\n",
       "      <th>Test dataset</th>\n",
       "      <th>Total</th>\n",
       "    </tr>\n",
       "  </thead>\n",
       "  <tbody>\n",
       "    <tr>\n",
       "      <th>Yes</th>\n",
       "      <td>2114</td>\n",
       "      <td>564</td>\n",
       "      <td>2678</td>\n",
       "    </tr>\n",
       "    <tr>\n",
       "      <th>No</th>\n",
       "      <td>2170</td>\n",
       "      <td>508</td>\n",
       "      <td>2678</td>\n",
       "    </tr>\n",
       "  </tbody>\n",
       "</table>\n",
       "</div>"
      ],
      "text/plain": [
       "     Training dataset  Test dataset  Total\n",
       "Yes              2114           564   2678\n",
       "No               2170           508   2678"
      ]
     },
     "execution_count": 18,
     "metadata": {},
     "output_type": "execute_result"
    }
   ],
   "source": [
    "# separate data\n",
    "X_train,X_test,y_train,y_test=train_test_split(df_upsampled.drop(['target'], axis=1), df_upsampled.target,test_size=0.20,random_state=rs, shuffle=True)\n",
    "\n",
    "freqs = pd.DataFrame({\"Training dataset\": [(y_train == 1).sum(),(y_train == 0).sum()],\n",
    "                      \"Test dataset\": [(y_test == 1).sum(),(y_test == 0).sum()],\n",
    "                      \"Total\": [(y_train == 1).sum()+(y_test == 1).sum(),(y_train == 0).sum()+(y_test == 0).sum()]},\n",
    "                     index=[\"Yes\", \"No\"])\n",
    "freqs[[\"Training dataset\", \"Test dataset\", \"Total\"]]"
   ]
  },
  {
   "cell_type": "code",
   "execution_count": 19,
   "id": "d9fb39eb",
   "metadata": {},
   "outputs": [],
   "source": [
    "def statistics(confusion):\n",
    "    TP = confusion[1, 1]\n",
    "    TN = confusion[0, 0]\n",
    "    FP = confusion[0, 1]\n",
    "    FN = confusion[1, 0]\n",
    "    print('True Positives (TP):',TP)\n",
    "    print('True Negatives (TN):',TN)\n",
    "    print('False Positives (FP):',FP)\n",
    "    print('False Negarives (FN):',FN)\n",
    "    print('Classification Accuracy:',(TP + TN) / float(TP + TN + FP + FN))\n",
    "    precision = TN / float(TN + FP)\n",
    "    print('Precision:',precision)\n",
    "    recall = TP / float(TP + FN)\n",
    "    print('Recall:', recall)\n",
    "    print('f-score:', 2 * precision * recall / (precision + recall))"
   ]
  },
  {
   "cell_type": "code",
   "execution_count": 20,
   "id": "5f1969d0",
   "metadata": {},
   "outputs": [],
   "source": [
    "def cm_analysis(y_true, y_pred, labels, figsize=(7,6)):\n",
    "    cm = confusion_matrix(y_true, y_pred, labels=labels)\n",
    "    cm_sum = np.sum(cm, axis=1, keepdims=True)\n",
    "    cm_perc = cm / cm_sum.astype(float) * 100\n",
    "    annot = np.empty_like(cm).astype(str)\n",
    "    nrows, ncols = cm.shape\n",
    "    for i in range(nrows):\n",
    "        for j in range(ncols):\n",
    "            c = cm[i, j]\n",
    "            p = cm_perc[i, j]\n",
    "            if i == j:\n",
    "                s = cm_sum[i]\n",
    "                annot[i, j] = '%.1f%%\\n%d/%d' % (p, c, s)\n",
    "            elif c == 0:\n",
    "                annot[i, j] = '0'\n",
    "            else:\n",
    "                annot[i, j] = '%.1f%%\\n%d' % (p, c)\n",
    "    cm_result = pd.DataFrame(cm, index=labels, columns=labels)\n",
    "    cm_result.index.name = 'Actual'\n",
    "    cm_result.columns.name = 'Predicted'\n",
    "    fig, ax = plt.subplots(figsize=figsize)\n",
    "    sns.heatmap(cm, annot=annot, fmt='', ax=ax, cmap='Blues')\n",
    "    #plt.savefig(filename)\n",
    "    plt.show()\n",
    "    return cm_result, cm"
   ]
  },
  {
   "cell_type": "markdown",
   "id": "e7b4b39b",
   "metadata": {},
   "source": [
    "# Using Support Vector Machine (SVM)\n"
   ]
  },
  {
   "cell_type": "code",
   "execution_count": 21,
   "id": "4a722e55",
   "metadata": {},
   "outputs": [
    {
     "name": "stdout",
     "output_type": "stream",
     "text": [
      "Fitting 5 folds for each of 15 candidates, totalling 75 fits\n"
     ]
    },
    {
     "data": {
      "text/plain": [
       "GridSearchCV(estimator=SVC(),\n",
       "             param_grid=[{'C': [0.001, 0.1, 1, 10, 100],\n",
       "                          'kernel': ['rbf', 'linear', 'sigmoid']}],\n",
       "             verbose=1)"
      ]
     },
     "execution_count": 21,
     "metadata": {},
     "output_type": "execute_result"
    }
   ],
   "source": [
    "# Create a svm classifier:\n",
    "param_grid = [\n",
    "  {'C': [0.001, 0.1, 1, 10, 100], 'kernel': ['rbf', 'linear', 'sigmoid']},\n",
    " ]\n",
    "svc = SVC()\n",
    "svc_classifier = GridSearchCV(svc, param_grid, verbose = 1)\n",
    "svc_classifier.fit(X_train, y_train)\n",
    "#fit to the training data"
   ]
  },
  {
   "cell_type": "markdown",
   "id": "0b99dde9",
   "metadata": {},
   "source": [
    "# The best parameters for the model:"
   ]
  },
  {
   "cell_type": "code",
   "execution_count": 22,
   "id": "7f90dfab",
   "metadata": {},
   "outputs": [
    {
     "name": "stdout",
     "output_type": "stream",
     "text": [
      "0.9794591544073544\n",
      "{'C': 10, 'kernel': 'rbf'}\n"
     ]
    }
   ],
   "source": [
    "print(svc_classifier.best_score_)\n",
    "print(svc_classifier.best_params_)"
   ]
  },
  {
   "cell_type": "markdown",
   "id": "12aae191",
   "metadata": {},
   "source": [
    "# Prediction:"
   ]
  },
  {
   "cell_type": "code",
   "execution_count": 23,
   "id": "4cb5a6d5",
   "metadata": {},
   "outputs": [],
   "source": [
    "y_pred = svc_classifier.predict(X_test)"
   ]
  },
  {
   "cell_type": "code",
   "execution_count": 24,
   "id": "ba297b1e",
   "metadata": {},
   "outputs": [
    {
     "data": {
      "text/plain": [
       "array([0, 1, 1, ..., 0, 1, 1])"
      ]
     },
     "execution_count": 24,
     "metadata": {},
     "output_type": "execute_result"
    }
   ],
   "source": [
    "y_pred"
   ]
  },
  {
   "cell_type": "markdown",
   "id": "03575267",
   "metadata": {},
   "source": [
    "# Confusion matrix and result report:"
   ]
  },
  {
   "cell_type": "code",
   "execution_count": 25,
   "id": "e648568b",
   "metadata": {},
   "outputs": [
    {
     "data": {
      "image/png": "[encoded data removed]",
      "text/plain": [
       "<Figure size 504x432 with 2 Axes>"
      ]
     },
     "metadata": {
      "needs_background": "light"
     },
     "output_type": "display_data"
    }
   ],
   "source": [
    "cm_result, cm = cm_analysis(y_test, y_pred, [0,1])"
   ]
  },
  {
   "cell_type": "code",
   "execution_count": 26,
   "id": "acf2d81a",
   "metadata": {},
   "outputs": [
    {
     "name": "stdout",
     "output_type": "stream",
     "text": [
      "True Positives (TP): 553\n",
      "True Negatives (TN): 502\n",
      "False Positives (FP): 6\n",
      "False Negarives (FN): 11\n",
      "Classification Accuracy: 0.9841417910447762\n",
      "Precision: 0.9881889763779528\n",
      "Recall: 0.9804964539007093\n",
      "f-score: 0.9843276860998632\n"
     ]
    }
   ],
   "source": [
    "statistics(cm)"
   ]
  },
  {
   "cell_type": "markdown",
   "id": "10ade0b9",
   "metadata": {},
   "source": [
    "# Using k-nearest neighbors (KNN)"
   ]
  },
  {
   "cell_type": "code",
   "execution_count": 27,
   "id": "478c5c6e",
   "metadata": {},
   "outputs": [
    {
     "name": "stdout",
     "output_type": "stream",
     "text": [
      "Fitting 5 folds for each of 60 candidates, totalling 300 fits\n"
     ]
    },
    {
     "data": {
      "text/plain": [
       "GridSearchCV(estimator=KNeighborsClassifier(),\n",
       "             param_grid=[{'n_neighbors': [1, 2, 3, 4, 5, 6, 7, 8, 9, 10, 11, 12,\n",
       "                                          13, 14, 15, 16, 17, 18, 19, 20, 21,\n",
       "                                          22, 23, 24, 25, 26, 27, 28, 29, 30],\n",
       "                          'weights': ['uniform', 'distance']}],\n",
       "             verbose=1)"
      ]
     },
     "execution_count": 27,
     "metadata": {},
     "output_type": "execute_result"
    }
   ],
   "source": [
    "# Create a knn classifier:\n",
    "param_grid = [\n",
    "  {'n_neighbors': list(range(1, 31)), 'weights': ['uniform', 'distance']},\n",
    " ]\n",
    "knn = KNeighborsClassifier()\n",
    "knn_classifier = GridSearchCV(knn, param_grid, verbose = 1)\n",
    "knn_classifier.fit(X_train,y_train)\n",
    "#fit to the training data"
   ]
  },
  {
   "cell_type": "markdown",
   "id": "34bc4537",
   "metadata": {},
   "source": [
    "# The best parameters for the model"
   ]
  },
  {
   "cell_type": "code",
   "execution_count": 28,
   "id": "f53f6fd3",
   "metadata": {},
   "outputs": [
    {
     "name": "stdout",
     "output_type": "stream",
     "text": [
      "0.983893772014962\n",
      "{'n_neighbors': 1, 'weights': 'uniform'}\n"
     ]
    }
   ],
   "source": [
    "print(knn_classifier.best_score_)\n",
    "print(knn_classifier.best_params_)"
   ]
  },
  {
   "cell_type": "markdown",
   "id": "77215e7c",
   "metadata": {},
   "source": [
    "# Prediction:"
   ]
  },
  {
   "cell_type": "code",
   "execution_count": 29,
   "id": "5f626f9b",
   "metadata": {},
   "outputs": [
    {
     "data": {
      "text/plain": [
       "array([0, 1, 1, ..., 0, 1, 1])"
      ]
     },
     "execution_count": 29,
     "metadata": {},
     "output_type": "execute_result"
    }
   ],
   "source": [
    "y_pred = knn_classifier.predict(X_test)\n",
    "y_pred"
   ]
  },
  {
   "cell_type": "markdown",
   "id": "923de3af",
   "metadata": {},
   "source": [
    "# Confusion matrix and result report:"
   ]
  },
  {
   "cell_type": "code",
   "execution_count": 30,
   "id": "7defed98",
   "metadata": {},
   "outputs": [
    {
     "data": {
      "image/png": "[encoded data removed]",
      "text/plain": [
       "<Figure size 504x432 with 2 Axes>"
      ]
     },
     "metadata": {
      "needs_background": "light"
     },
     "output_type": "display_data"
    }
   ],
   "source": [
    "cm_result, cm = cm_analysis(y_test, y_pred, [0,1])"
   ]
  },
  {
   "cell_type": "code",
   "execution_count": 31,
   "id": "f05c3e7f",
   "metadata": {},
   "outputs": [
    {
     "name": "stdout",
     "output_type": "stream",
     "text": [
      "True Positives (TP): 557\n",
      "True Negatives (TN): 500\n",
      "False Positives (FP): 8\n",
      "False Negarives (FN): 7\n",
      "Classification Accuracy: 0.9860074626865671\n",
      "Precision: 0.984251968503937\n",
      "Recall: 0.9875886524822695\n",
      "f-score: 0.9859174873795482\n"
     ]
    }
   ],
   "source": [
    "statistics(cm)"
   ]
  },
  {
   "cell_type": "code",
   "execution_count": null,
   "id": "55076ffe",
   "metadata": {},
   "outputs": [],
   "source": []
  },
  {
   "cell_type": "markdown",
   "id": "34cb0147",
   "metadata": {},
   "source": [
    "# Using Random Forest model"
   ]
  },
  {
   "cell_type": "code",
   "execution_count": 32,
   "id": "dc672369",
   "metadata": {},
   "outputs": [
    {
     "name": "stdout",
     "output_type": "stream",
     "text": [
      "Fitting 5 folds for each of 20 candidates, totalling 100 fits\n"
     ]
    },
    {
     "data": {
      "text/plain": [
       "GridSearchCV(estimator=RandomForestClassifier(),\n",
       "             param_grid={'criterion': ['gini', 'entropy'],\n",
       "                         'max_features': ['sqrt', 'log2'],\n",
       "                         'n_estimators': [10, 50, 100, 200, 500]},\n",
       "             verbose=1)"
      ]
     },
     "execution_count": 32,
     "metadata": {},
     "output_type": "execute_result"
    }
   ],
   "source": [
    "# Create a Random Forest classifier:\n",
    "param_grid = { \n",
    "    'n_estimators': [10,50,100,200,500],\n",
    "    'max_features': ['sqrt', 'log2'],\n",
    "    'criterion' :['gini', 'entropy']\n",
    "}\n",
    "rfc = RandomForestClassifier()\n",
    "rfc_classifier = GridSearchCV(rfc, param_grid, verbose = 1)\n",
    "rfc_classifier.fit(X_train,y_train)\n",
    "#fit to the training data"
   ]
  },
  {
   "cell_type": "markdown",
   "id": "c86bac76",
   "metadata": {},
   "source": [
    "# The best parameters for the model:"
   ]
  },
  {
   "cell_type": "code",
   "execution_count": 33,
   "id": "1a0605c4",
   "metadata": {},
   "outputs": [
    {
     "name": "stdout",
     "output_type": "stream",
     "text": [
      "0.9813258596058845\n",
      "{'criterion': 'gini', 'max_features': 'sqrt', 'n_estimators': 50}\n"
     ]
    }
   ],
   "source": [
    "print(rfc_classifier.best_score_)\n",
    "print(rfc_classifier.best_params_)"
   ]
  },
  {
   "cell_type": "markdown",
   "id": "d42018ef",
   "metadata": {},
   "source": [
    "# Prediction:"
   ]
  },
  {
   "cell_type": "code",
   "execution_count": 36,
   "id": "06c3b4cf",
   "metadata": {},
   "outputs": [
    {
     "data": {
      "text/plain": [
       "array([0, 1, 1, ..., 0, 1, 1])"
      ]
     },
     "execution_count": 36,
     "metadata": {},
     "output_type": "execute_result"
    }
   ],
   "source": [
    "y_pred = rfc_classifier.predict(X_test)\n",
    "y_pred"
   ]
  },
  {
   "cell_type": "markdown",
   "id": "e3022004",
   "metadata": {},
   "source": [
    "# Confusion matrix and result report:"
   ]
  },
  {
   "cell_type": "code",
   "execution_count": 37,
   "id": "e3d25c4e",
   "metadata": {},
   "outputs": [
    {
     "data": {
      "image/png": "[encoded data removed]",
      "text/plain": [
       "<Figure size 504x432 with 2 Axes>"
      ]
     },
     "metadata": {
      "needs_background": "light"
     },
     "output_type": "display_data"
    }
   ],
   "source": [
    "cm_result, cm = cm_analysis(y_test, y_pred, [0,1])"
   ]
  },
  {
   "cell_type": "code",
   "execution_count": 38,
   "id": "0880b4f7",
   "metadata": {},
   "outputs": [
    {
     "name": "stdout",
     "output_type": "stream",
     "text": [
      "True Positives (TP): 549\n",
      "True Negatives (TN): 505\n",
      "False Positives (FP): 3\n",
      "False Negarives (FN): 15\n",
      "Classification Accuracy: 0.9832089552238806\n",
      "Precision: 0.9940944881889764\n",
      "Recall: 0.973404255319149\n",
      "f-score: 0.9836405824250681\n"
     ]
    }
   ],
   "source": [
    "statistics(cm)"
   ]
  },
  {
   "cell_type": "code",
   "execution_count": null,
   "id": "15d1c1a1",
   "metadata": {},
   "outputs": [],
   "source": []
  },
  {
   "cell_type": "markdown",
   "id": "60707415",
   "metadata": {},
   "source": [
    "# Using Deep Learning method - CNN\n",
    "\n",
    "Part 1 - Data Preprocessing\n",
    "\n",
    "Split into train , test data"
   ]
  },
  {
   "cell_type": "code",
   "execution_count": 40,
   "id": "51237e96",
   "metadata": {},
   "outputs": [
    {
     "name": "stderr",
     "output_type": "stream",
     "text": [
      "Copying files: 253 files [00:07, 33.83 files/s]\n"
     ]
    }
   ],
   "source": [
    "# train, test split\n",
    "splitfolders.ratio('brain_tumor_dataset/', output=\"brain_tumor_dataset_split\", ratio=(0.7, 0.3))"
   ]
  },
  {
   "cell_type": "markdown",
   "id": "79f104f0",
   "metadata": {},
   "source": [
    "# Preprocessing the Training set"
   ]
  },
  {
   "cell_type": "code",
   "execution_count": 41,
   "id": "e043da1a",
   "metadata": {},
   "outputs": [
    {
     "name": "stdout",
     "output_type": "stream",
     "text": [
      "Found 183 images belonging to 2 classes.\n"
     ]
    }
   ],
   "source": [
    "train_datagen = ImageDataGenerator(rescale = 1./255,\n",
    "                                   shear_range = 0.2,\n",
    "                                   zoom_range = 0.2,\n",
    "                                   horizontal_flip = True)\n",
    "train = train_datagen.flow_from_directory('./data/brain_tumor_dataset_split/train',\n",
    "                                                 target_size = (IMG_SIZE,IMG_SIZE),\n",
    "                                                 batch_size = 32,\n",
    "                                                 class_mode = 'binary',\n",
    "                                                 shuffle=True, seed=rs )\n",
    "\n"
   ]
  },
  {
   "cell_type": "code",
   "execution_count": 42,
   "id": "9d873b95",
   "metadata": {},
   "outputs": [
    {
     "data": {
      "text/plain": [
       "{'no': 0, 'yes': 1}"
      ]
     },
     "execution_count": 42,
     "metadata": {},
     "output_type": "execute_result"
    }
   ],
   "source": [
    "train.class_indices"
   ]
  },
  {
   "cell_type": "code",
   "execution_count": 43,
   "id": "883b0ad8",
   "metadata": {},
   "outputs": [
    {
     "name": "stdout",
     "output_type": "stream",
     "text": [
      "Yes: 108\n",
      "No: 68\n"
     ]
    }
   ],
   "source": [
    "yes=np.count_nonzero(train.classes)\n",
    "print(\"Yes:\",yes)\n",
    "print(\"No:\",176-yes)"
   ]
  },
  {
   "cell_type": "markdown",
   "id": "2679835d",
   "metadata": {},
   "source": [
    "# Preprocessing the Test set"
   ]
  },
  {
   "cell_type": "code",
   "execution_count": 44,
   "id": "d4f63002",
   "metadata": {},
   "outputs": [
    {
     "name": "stdout",
     "output_type": "stream",
     "text": [
      "Found 84 images belonging to 2 classes.\n"
     ]
    }
   ],
   "source": [
    "test_datagen = ImageDataGenerator(rescale = 1./255)\n",
    "test = test_datagen.flow_from_directory('data/brain_tumor_dataset_split/val/',\n",
    "                                            target_size = (IMG_SIZE, IMG_SIZE),\n",
    "                                            batch_size = 32,\n",
    "                                            class_mode = 'binary',\n",
    "                                            shuffle=True, seed=rs )"
   ]
  },
  {
   "cell_type": "code",
   "execution_count": 45,
   "id": "16cf7914",
   "metadata": {},
   "outputs": [
    {
     "name": "stdout",
     "output_type": "stream",
     "text": [
      "Yes: 47\n",
      "No: 30\n"
     ]
    }
   ],
   "source": [
    "yes_test=np.count_nonzero(test.classes)\n",
    "print(\"Yes:\",yes_test)\n",
    "print(\"No:\",77-yes_test)"
   ]
  },
  {
   "cell_type": "code",
   "execution_count": 46,
   "id": "1b7650fd",
   "metadata": {},
   "outputs": [
    {
     "data": {
      "text/plain": [
       "84"
      ]
     },
     "execution_count": 46,
     "metadata": {},
     "output_type": "execute_result"
    }
   ],
   "source": [
    "len(test.classes)"
   ]
  },
  {
   "cell_type": "markdown",
   "id": "00bd20a4",
   "metadata": {},
   "source": [
    "# Part 2 - Building the CNN"
   ]
  },
  {
   "cell_type": "code",
   "execution_count": 47,
   "id": "bc494431",
   "metadata": {},
   "outputs": [],
   "source": [
    "### Init the CNN model\n",
    "cnn = tf.keras.models.Sequential()\n",
    "\n",
    "### Convolution and pooling layer\n",
    "cnn.add(tf.keras.layers.Conv2D(filters=64, kernel_size=7, activation='relu', input_shape=[IMG_SIZE,IMG_SIZE,3]))\n",
    "cnn.add(tf.keras.layers.MaxPool2D(pool_size=2, strides=2))\n",
    "\n",
    "### Adding a second convolutional layer\n",
    "cnn.add(tf.keras.layers.Conv2D(filters=32, kernel_size=5, activation='relu'))\n",
    "cnn.add(tf.keras.layers.MaxPool2D(pool_size=2, strides=2))\n",
    "\n",
    "### Adding a third convolutional layer\n",
    "cnn.add(tf.keras.layers.Conv2D(filters=32, kernel_size=3, activation='relu'))\n",
    "cnn.add(tf.keras.layers.MaxPool2D(pool_size=2, strides=2))\n",
    "\n",
    "### Adding a fourth convolutional layer\n",
    "cnn.add(tf.keras.layers.Conv2D(filters=16, kernel_size=3, activation='relu'))\n",
    "cnn.add(tf.keras.layers.MaxPool2D(pool_size=2, strides=2))\n",
    "\n",
    "### Flattening\n",
    "cnn.add(tf.keras.layers.Flatten())\n",
    "\n",
    "### Fully Connection\n",
    "cnn.add(tf.keras.layers.Dense(units=128, activation='relu'))\n",
    "\n",
    "### Dropout\n",
    "cnn.add(tf.keras.layers.Dropout(0.3))\n",
    "\n",
    "### Output Layer\n",
    "# cnn.add(tf.keras.layers.Dense(units=2, activation='softmax'))\n",
    "cnn.add(tf.keras.layers.Dense(units=1, activation='sigmoid'))"
   ]
  },
  {
   "cell_type": "markdown",
   "id": "8358f4eb",
   "metadata": {},
   "source": [
    "# Part 3 - Training the CNN\n",
    "Compiling the CNN"
   ]
  },
  {
   "cell_type": "code",
   "execution_count": 50,
   "id": "e7358b88",
   "metadata": {},
   "outputs": [],
   "source": [
    "def weighted_loss(weight):\n",
    "    def weighted_cross_entropy_with_logits(labels, logits):\n",
    "        loss = tf.nn.weighted_cross_entropy_with_logits( labels, logits, weight)\n",
    "        return loss\n",
    "    return weighted_cross_entropy_with_logits\n",
    "\n",
    "cnn.compile(optimizer = 'adam', loss = weighted_loss(weight=1.5), metrics = ['accuracy'])\n",
    "# cnn.compile(optimizer = 'adam', loss = 'sparse_categorical_crossentropy', metrics = ['accuracy'])"
   ]
  },
  {
   "cell_type": "markdown",
   "id": "5f79c2ab",
   "metadata": {},
   "source": [
    "# Summary of the model"
   ]
  },
  {
   "cell_type": "code",
   "execution_count": 51,
   "id": "0c2fbc09",
   "metadata": {},
   "outputs": [
    {
     "name": "stdout",
     "output_type": "stream",
     "text": [
      "Model: \"sequential\"\n",
      "_________________________________________________________________\n",
      "Layer (type)                 Output Shape              Param #   \n",
      "=================================================================\n",
      "conv2d (Conv2D)              (None, 58, 58, 64)        9472      \n",
      "_________________________________________________________________\n",
      "max_pooling2d (MaxPooling2D) (None, 29, 29, 64)        0         \n",
      "_________________________________________________________________\n",
      "conv2d_1 (Conv2D)            (None, 25, 25, 32)        51232     \n",
      "_________________________________________________________________\n",
      "max_pooling2d_1 (MaxPooling2 (None, 12, 12, 32)        0         \n",
      "_________________________________________________________________\n",
      "conv2d_2 (Conv2D)            (None, 10, 10, 32)        9248      \n",
      "_________________________________________________________________\n",
      "max_pooling2d_2 (MaxPooling2 (None, 5, 5, 32)          0         \n",
      "_________________________________________________________________\n",
      "conv2d_3 (Conv2D)            (None, 3, 3, 16)          4624      \n",
      "_________________________________________________________________\n",
      "max_pooling2d_3 (MaxPooling2 (None, 1, 1, 16)          0         \n",
      "_________________________________________________________________\n",
      "flatten (Flatten)            (None, 16)                0         \n",
      "_________________________________________________________________\n",
      "dense (Dense)                (None, 128)               2176      \n",
      "_________________________________________________________________\n",
      "dropout (Dropout)            (None, 128)               0         \n",
      "_________________________________________________________________\n",
      "dense_1 (Dense)              (None, 1)                 129       \n",
      "=================================================================\n",
      "Total params: 76,881\n",
      "Trainable params: 76,881\n",
      "Non-trainable params: 0\n",
      "_________________________________________________________________\n"
     ]
    }
   ],
   "source": [
    "cnn.summary()"
   ]
  },
  {
   "cell_type": "markdown",
   "id": "57ff4dec",
   "metadata": {},
   "source": [
    "# Training the CNN on the Training set and evaluating it on the Test set"
   ]
  },
  {
   "cell_type": "code",
   "execution_count": 53,
   "id": "78e42528",
   "metadata": {},
   "outputs": [
    {
     "name": "stdout",
     "output_type": "stream",
     "text": [
      "Epoch 1/100\n",
      "6/6 [==============================] - 3s 459ms/step - loss: 0.7928 - accuracy: 0.6175 - val_loss: 0.7971 - val_accuracy: 0.6429\n",
      "Epoch 2/100\n",
      "6/6 [==============================] - 3s 430ms/step - loss: 0.7826 - accuracy: 0.6011 - val_loss: 0.7911 - val_accuracy: 0.6429\n",
      "Epoch 3/100\n",
      "6/6 [==============================] - 3s 474ms/step - loss: 0.7682 - accuracy: 0.6557 - val_loss: 0.7784 - val_accuracy: 0.7024\n",
      "Epoch 4/100\n",
      "6/6 [==============================] - 3s 420ms/step - loss: 0.7762 - accuracy: 0.6339 - val_loss: 0.7741 - val_accuracy: 0.6786\n",
      "Epoch 5/100\n",
      "6/6 [==============================] - 3s 443ms/step - loss: 0.7561 - accuracy: 0.7158 - val_loss: 0.7499 - val_accuracy: 0.7143\n",
      "Epoch 6/100\n",
      "6/6 [==============================] - 2s 415ms/step - loss: 0.7492 - accuracy: 0.6776 - val_loss: 0.7739 - val_accuracy: 0.6786\n",
      "Epoch 7/100\n",
      "6/6 [==============================] - 3s 426ms/step - loss: 0.7611 - accuracy: 0.6667 - val_loss: 0.7529 - val_accuracy: 0.6667\n",
      "Epoch 8/100\n",
      "6/6 [==============================] - 3s 423ms/step - loss: 0.7410 - accuracy: 0.7104 - val_loss: 0.7696 - val_accuracy: 0.6786\n",
      "Epoch 9/100\n",
      "6/6 [==============================] - 3s 425ms/step - loss: 0.7528 - accuracy: 0.6667 - val_loss: 0.7393 - val_accuracy: 0.7024\n",
      "Epoch 10/100\n",
      "6/6 [==============================] - 3s 436ms/step - loss: 0.7217 - accuracy: 0.7322 - val_loss: 0.7210 - val_accuracy: 0.7619\n",
      "Epoch 11/100\n",
      "6/6 [==============================] - 3s 432ms/step - loss: 0.6990 - accuracy: 0.7814 - val_loss: 0.7562 - val_accuracy: 0.6786\n",
      "Epoch 12/100\n",
      "6/6 [==============================] - 3s 431ms/step - loss: 0.7288 - accuracy: 0.7213 - val_loss: 0.7635 - val_accuracy: 0.6905\n",
      "Epoch 13/100\n",
      "6/6 [==============================] - 3s 424ms/step - loss: 0.7488 - accuracy: 0.6940 - val_loss: 0.7295 - val_accuracy: 0.7619\n",
      "Epoch 14/100\n",
      "6/6 [==============================] - 3s 426ms/step - loss: 0.7397 - accuracy: 0.7104 - val_loss: 0.7668 - val_accuracy: 0.6667\n",
      "Epoch 15/100\n",
      "6/6 [==============================] - 3s 434ms/step - loss: 0.7629 - accuracy: 0.6612 - val_loss: 0.8031 - val_accuracy: 0.6190\n",
      "Epoch 16/100\n",
      "6/6 [==============================] - 3s 457ms/step - loss: 0.7481 - accuracy: 0.6940 - val_loss: 0.7685 - val_accuracy: 0.6429\n",
      "Epoch 17/100\n",
      "6/6 [==============================] - 3s 465ms/step - loss: 0.7429 - accuracy: 0.6940 - val_loss: 0.7679 - val_accuracy: 0.6667\n",
      "Epoch 18/100\n",
      "6/6 [==============================] - 3s 431ms/step - loss: 0.7667 - accuracy: 0.6393 - val_loss: 0.7475 - val_accuracy: 0.6905\n",
      "Epoch 19/100\n",
      "6/6 [==============================] - 3s 422ms/step - loss: 0.7291 - accuracy: 0.7158 - val_loss: 0.7698 - val_accuracy: 0.6905\n",
      "Epoch 20/100\n",
      "6/6 [==============================] - 3s 449ms/step - loss: 0.7231 - accuracy: 0.7322 - val_loss: 0.7527 - val_accuracy: 0.7143\n",
      "Epoch 21/100\n",
      "6/6 [==============================] - 3s 430ms/step - loss: 0.7299 - accuracy: 0.7158 - val_loss: 0.7525 - val_accuracy: 0.7143\n",
      "Epoch 22/100\n",
      "6/6 [==============================] - 3s 449ms/step - loss: 0.7278 - accuracy: 0.7213 - val_loss: 0.7543 - val_accuracy: 0.7024\n",
      "Epoch 23/100\n",
      "6/6 [==============================] - 3s 425ms/step - loss: 0.7428 - accuracy: 0.6885 - val_loss: 0.7719 - val_accuracy: 0.6429\n",
      "Epoch 24/100\n",
      "6/6 [==============================] - 3s 430ms/step - loss: 0.7150 - accuracy: 0.7432 - val_loss: 0.7533 - val_accuracy: 0.6905\n",
      "Epoch 25/100\n",
      "6/6 [==============================] - 3s 428ms/step - loss: 0.7287 - accuracy: 0.7104 - val_loss: 0.7483 - val_accuracy: 0.7143\n",
      "Epoch 26/100\n",
      "6/6 [==============================] - 3s 449ms/step - loss: 0.7153 - accuracy: 0.7486 - val_loss: 0.7420 - val_accuracy: 0.7024\n",
      "Epoch 27/100\n",
      "6/6 [==============================] - 3s 430ms/step - loss: 0.7100 - accuracy: 0.7596 - val_loss: 0.7345 - val_accuracy: 0.7143\n",
      "Epoch 28/100\n",
      "6/6 [==============================] - 3s 430ms/step - loss: 0.7157 - accuracy: 0.7432 - val_loss: 0.7333 - val_accuracy: 0.7262\n",
      "Epoch 29/100\n",
      "6/6 [==============================] - 3s 450ms/step - loss: 0.7211 - accuracy: 0.7268 - val_loss: 0.7370 - val_accuracy: 0.7143\n",
      "Epoch 30/100\n",
      "6/6 [==============================] - 3s 448ms/step - loss: 0.7088 - accuracy: 0.7650 - val_loss: 0.7682 - val_accuracy: 0.6905\n",
      "Epoch 31/100\n",
      "6/6 [==============================] - 3s 436ms/step - loss: 0.7578 - accuracy: 0.6776 - val_loss: 0.7594 - val_accuracy: 0.7024\n",
      "Epoch 32/100\n",
      "6/6 [==============================] - 3s 429ms/step - loss: 0.7265 - accuracy: 0.7322 - val_loss: 0.7438 - val_accuracy: 0.7262\n",
      "Epoch 33/100\n",
      "6/6 [==============================] - 3s 448ms/step - loss: 0.7276 - accuracy: 0.7268 - val_loss: 0.7380 - val_accuracy: 0.7024\n",
      "Epoch 34/100\n",
      "6/6 [==============================] - 3s 436ms/step - loss: 0.7041 - accuracy: 0.7596 - val_loss: 0.7360 - val_accuracy: 0.7381\n",
      "Epoch 35/100\n",
      "6/6 [==============================] - 3s 437ms/step - loss: 0.7196 - accuracy: 0.7158 - val_loss: 0.7414 - val_accuracy: 0.7262\n",
      "Epoch 36/100\n",
      "6/6 [==============================] - 3s 480ms/step - loss: 0.7101 - accuracy: 0.7596 - val_loss: 0.7530 - val_accuracy: 0.6905\n",
      "Epoch 37/100\n",
      "6/6 [==============================] - 3s 454ms/step - loss: 0.7184 - accuracy: 0.7486 - val_loss: 0.7343 - val_accuracy: 0.7381\n",
      "Epoch 38/100\n",
      "6/6 [==============================] - 3s 456ms/step - loss: 0.7311 - accuracy: 0.7049 - val_loss: 0.7494 - val_accuracy: 0.7143\n",
      "Epoch 39/100\n",
      "6/6 [==============================] - 3s 520ms/step - loss: 0.7319 - accuracy: 0.6995 - val_loss: 0.7549 - val_accuracy: 0.6786\n",
      "Epoch 40/100\n",
      "6/6 [==============================] - 3s 428ms/step - loss: 0.7054 - accuracy: 0.7486 - val_loss: 0.7381 - val_accuracy: 0.7143\n",
      "Epoch 41/100\n",
      "6/6 [==============================] - 3s 446ms/step - loss: 0.7007 - accuracy: 0.7705 - val_loss: 0.7303 - val_accuracy: 0.7262\n",
      "Epoch 42/100\n",
      "6/6 [==============================] - 3s 421ms/step - loss: 0.7326 - accuracy: 0.7158 - val_loss: 0.7345 - val_accuracy: 0.7024\n",
      "Epoch 43/100\n",
      "6/6 [==============================] - 3s 431ms/step - loss: 0.7016 - accuracy: 0.7650 - val_loss: 0.7623 - val_accuracy: 0.6667\n",
      "Epoch 44/100\n",
      "6/6 [==============================] - 3s 427ms/step - loss: 0.7623 - accuracy: 0.6503 - val_loss: 0.7287 - val_accuracy: 0.7500\n",
      "Epoch 45/100\n",
      "6/6 [==============================] - 3s 432ms/step - loss: 0.7115 - accuracy: 0.7432 - val_loss: 0.7265 - val_accuracy: 0.7381\n",
      "Epoch 46/100\n",
      "6/6 [==============================] - 3s 432ms/step - loss: 0.6920 - accuracy: 0.7814 - val_loss: 0.7049 - val_accuracy: 0.7500\n",
      "Epoch 47/100\n",
      "6/6 [==============================] - 3s 463ms/step - loss: 0.7030 - accuracy: 0.7596 - val_loss: 0.7083 - val_accuracy: 0.7619\n",
      "Epoch 48/100\n",
      "6/6 [==============================] - 3s 430ms/step - loss: 0.6861 - accuracy: 0.7978 - val_loss: 0.6969 - val_accuracy: 0.7857\n",
      "Epoch 49/100\n",
      "6/6 [==============================] - 3s 446ms/step - loss: 0.6876 - accuracy: 0.7814 - val_loss: 0.7208 - val_accuracy: 0.7500\n",
      "Epoch 50/100\n",
      "6/6 [==============================] - 3s 451ms/step - loss: 0.6835 - accuracy: 0.7978 - val_loss: 0.7080 - val_accuracy: 0.7619\n",
      "Epoch 51/100\n",
      "6/6 [==============================] - 3s 448ms/step - loss: 0.6935 - accuracy: 0.7760 - val_loss: 0.7540 - val_accuracy: 0.6905\n",
      "Epoch 52/100\n",
      "6/6 [==============================] - 3s 440ms/step - loss: 0.7042 - accuracy: 0.7596 - val_loss: 0.6784 - val_accuracy: 0.8214\n",
      "Epoch 53/100\n",
      "6/6 [==============================] - 3s 469ms/step - loss: 0.6764 - accuracy: 0.7978 - val_loss: 0.6732 - val_accuracy: 0.8452\n",
      "Epoch 54/100\n",
      "6/6 [==============================] - 4s 590ms/step - loss: 0.6720 - accuracy: 0.8251 - val_loss: 0.6829 - val_accuracy: 0.8333\n",
      "Epoch 55/100\n",
      "6/6 [==============================] - 3s 529ms/step - loss: 0.6686 - accuracy: 0.8306 - val_loss: 0.6743 - val_accuracy: 0.8214\n",
      "Epoch 56/100\n",
      "6/6 [==============================] - 3s 490ms/step - loss: 0.6584 - accuracy: 0.8525 - val_loss: 0.6636 - val_accuracy: 0.8810\n",
      "Epoch 57/100\n",
      "6/6 [==============================] - 3s 559ms/step - loss: 0.6612 - accuracy: 0.8306 - val_loss: 0.6684 - val_accuracy: 0.8214\n",
      "Epoch 58/100\n",
      "6/6 [==============================] - 3s 498ms/step - loss: 0.6535 - accuracy: 0.8525 - val_loss: 0.6566 - val_accuracy: 0.8571\n"
     ]
    },
    {
     "name": "stdout",
     "output_type": "stream",
     "text": [
      "Epoch 59/100\n",
      "6/6 [==============================] - 2s 415ms/step - loss: 0.6448 - accuracy: 0.8689 - val_loss: 0.6686 - val_accuracy: 0.8333\n",
      "Epoch 60/100\n",
      "6/6 [==============================] - 3s 425ms/step - loss: 0.6620 - accuracy: 0.8251 - val_loss: 0.6732 - val_accuracy: 0.7976\n",
      "Epoch 61/100\n",
      "6/6 [==============================] - 2s 406ms/step - loss: 0.6580 - accuracy: 0.8470 - val_loss: 0.6770 - val_accuracy: 0.8214\n",
      "Epoch 62/100\n",
      "6/6 [==============================] - 2s 408ms/step - loss: 0.6395 - accuracy: 0.8852 - val_loss: 0.6568 - val_accuracy: 0.8690\n",
      "Epoch 63/100\n",
      "6/6 [==============================] - 3s 433ms/step - loss: 0.6459 - accuracy: 0.8579 - val_loss: 0.6626 - val_accuracy: 0.8452\n",
      "Epoch 64/100\n",
      "6/6 [==============================] - 3s 432ms/step - loss: 0.6743 - accuracy: 0.8142 - val_loss: 0.6465 - val_accuracy: 0.8929\n",
      "Epoch 65/100\n",
      "6/6 [==============================] - 3s 437ms/step - loss: 0.6561 - accuracy: 0.8361 - val_loss: 0.6916 - val_accuracy: 0.7976\n",
      "Epoch 66/100\n",
      "6/6 [==============================] - 2s 407ms/step - loss: 0.6411 - accuracy: 0.8852 - val_loss: 0.6871 - val_accuracy: 0.7857\n",
      "Epoch 67/100\n",
      "6/6 [==============================] - 3s 422ms/step - loss: 0.6330 - accuracy: 0.8798 - val_loss: 0.6785 - val_accuracy: 0.8214\n",
      "Epoch 68/100\n",
      "6/6 [==============================] - 2s 408ms/step - loss: 0.6475 - accuracy: 0.8689 - val_loss: 0.6844 - val_accuracy: 0.7976\n",
      "Epoch 69/100\n",
      "6/6 [==============================] - 2s 416ms/step - loss: 0.6219 - accuracy: 0.8962 - val_loss: 0.6790 - val_accuracy: 0.8095\n",
      "Epoch 70/100\n",
      "6/6 [==============================] - 3s 426ms/step - loss: 0.6492 - accuracy: 0.8579 - val_loss: 0.7394 - val_accuracy: 0.6905\n",
      "Epoch 71/100\n",
      "6/6 [==============================] - 2s 407ms/step - loss: 0.6428 - accuracy: 0.8634 - val_loss: 0.7109 - val_accuracy: 0.7619\n",
      "Epoch 72/100\n",
      "6/6 [==============================] - 2s 395ms/step - loss: 0.6525 - accuracy: 0.8525 - val_loss: 0.6810 - val_accuracy: 0.7976\n",
      "Epoch 73/100\n",
      "6/6 [==============================] - 3s 417ms/step - loss: 0.6307 - accuracy: 0.8907 - val_loss: 0.6442 - val_accuracy: 0.8810\n",
      "Epoch 74/100\n",
      "6/6 [==============================] - 3s 443ms/step - loss: 0.6380 - accuracy: 0.8743 - val_loss: 0.6432 - val_accuracy: 0.8810\n",
      "Epoch 75/100\n",
      "6/6 [==============================] - 3s 430ms/step - loss: 0.6124 - accuracy: 0.9126 - val_loss: 0.6404 - val_accuracy: 0.8810\n",
      "Epoch 76/100\n",
      "6/6 [==============================] - 3s 470ms/step - loss: 0.6144 - accuracy: 0.9126 - val_loss: 0.6636 - val_accuracy: 0.8333\n",
      "Epoch 77/100\n",
      "6/6 [==============================] - 3s 453ms/step - loss: 0.6121 - accuracy: 0.9180 - val_loss: 0.6398 - val_accuracy: 0.8929\n",
      "Epoch 78/100\n",
      "6/6 [==============================] - 3s 473ms/step - loss: 0.6110 - accuracy: 0.9235 - val_loss: 0.6513 - val_accuracy: 0.8690\n",
      "Epoch 79/100\n",
      "6/6 [==============================] - 2s 416ms/step - loss: 0.6279 - accuracy: 0.8907 - val_loss: 0.6628 - val_accuracy: 0.8214\n",
      "Epoch 80/100\n",
      "6/6 [==============================] - 3s 439ms/step - loss: 0.6306 - accuracy: 0.8689 - val_loss: 0.6455 - val_accuracy: 0.8690\n",
      "Epoch 81/100\n",
      "6/6 [==============================] - 3s 503ms/step - loss: 0.6344 - accuracy: 0.8743 - val_loss: 0.6434 - val_accuracy: 0.8690\n",
      "Epoch 82/100\n",
      "6/6 [==============================] - 3s 555ms/step - loss: 0.6266 - accuracy: 0.8852 - val_loss: 0.6651 - val_accuracy: 0.8333\n",
      "Epoch 83/100\n",
      "6/6 [==============================] - 3s 433ms/step - loss: 0.6372 - accuracy: 0.8852 - val_loss: 0.6696 - val_accuracy: 0.8333\n",
      "Epoch 84/100\n",
      "6/6 [==============================] - 3s 426ms/step - loss: 0.6298 - accuracy: 0.8962 - val_loss: 0.6513 - val_accuracy: 0.8571\n",
      "Epoch 85/100\n",
      "6/6 [==============================] - 3s 457ms/step - loss: 0.5959 - accuracy: 0.9454 - val_loss: 0.6549 - val_accuracy: 0.8452\n",
      "Epoch 86/100\n",
      "6/6 [==============================] - 3s 428ms/step - loss: 0.6088 - accuracy: 0.9126 - val_loss: 0.6365 - val_accuracy: 0.9048\n",
      "Epoch 87/100\n",
      "6/6 [==============================] - 3s 460ms/step - loss: 0.6182 - accuracy: 0.9071 - val_loss: 0.6617 - val_accuracy: 0.8452\n",
      "Epoch 88/100\n",
      "6/6 [==============================] - 3s 449ms/step - loss: 0.6181 - accuracy: 0.9126 - val_loss: 0.6460 - val_accuracy: 0.8810\n",
      "Epoch 89/100\n",
      "6/6 [==============================] - 2s 416ms/step - loss: 0.6155 - accuracy: 0.9126 - val_loss: 0.6496 - val_accuracy: 0.8690\n",
      "Epoch 90/100\n",
      "6/6 [==============================] - 3s 453ms/step - loss: 0.6112 - accuracy: 0.9180 - val_loss: 0.6463 - val_accuracy: 0.8571\n",
      "Epoch 91/100\n",
      "6/6 [==============================] - 3s 438ms/step - loss: 0.6151 - accuracy: 0.9071 - val_loss: 0.6743 - val_accuracy: 0.8095\n",
      "Epoch 92/100\n",
      "6/6 [==============================] - 3s 436ms/step - loss: 0.6316 - accuracy: 0.8689 - val_loss: 0.6557 - val_accuracy: 0.8452\n",
      "Epoch 93/100\n",
      "6/6 [==============================] - 3s 435ms/step - loss: 0.6067 - accuracy: 0.9235 - val_loss: 0.6487 - val_accuracy: 0.8810\n",
      "Epoch 94/100\n",
      "6/6 [==============================] - 3s 493ms/step - loss: 0.6092 - accuracy: 0.9235 - val_loss: 0.6474 - val_accuracy: 0.8571\n",
      "Epoch 95/100\n",
      "6/6 [==============================] - 3s 436ms/step - loss: 0.6054 - accuracy: 0.9235 - val_loss: 0.6454 - val_accuracy: 0.8810\n",
      "Epoch 96/100\n",
      "6/6 [==============================] - 3s 424ms/step - loss: 0.6226 - accuracy: 0.9071 - val_loss: 0.6567 - val_accuracy: 0.8571\n",
      "Epoch 97/100\n",
      "6/6 [==============================] - 3s 423ms/step - loss: 0.6134 - accuracy: 0.9235 - val_loss: 0.6562 - val_accuracy: 0.8452\n",
      "Epoch 98/100\n",
      "6/6 [==============================] - 3s 462ms/step - loss: 0.6229 - accuracy: 0.8962 - val_loss: 0.6408 - val_accuracy: 0.8810\n",
      "Epoch 99/100\n",
      "6/6 [==============================] - 3s 450ms/step - loss: 0.6029 - accuracy: 0.9290 - val_loss: 0.6506 - val_accuracy: 0.8690\n",
      "Epoch 100/100\n",
      "6/6 [==============================] - 3s 437ms/step - loss: 0.6049 - accuracy: 0.9344 - val_loss: 0.6322 - val_accuracy: 0.8929\n"
     ]
    }
   ],
   "source": [
    "history=cnn.fit(x = train, epochs = 100 ,validation_data=test)"
   ]
  },
  {
   "cell_type": "markdown",
   "id": "c5595925",
   "metadata": {},
   "source": [
    "# Train accuracy"
   ]
  },
  {
   "cell_type": "code",
   "execution_count": 54,
   "id": "631a9a48",
   "metadata": {},
   "outputs": [
    {
     "name": "stdout",
     "output_type": "stream",
     "text": [
      "6/6 [==============================] - 1s 206ms/step - loss: 0.5949 - accuracy: 0.9454\n"
     ]
    },
    {
     "data": {
      "text/plain": [
       "[0.5949082970619202, 0.9453551769256592]"
      ]
     },
     "execution_count": 54,
     "metadata": {},
     "output_type": "execute_result"
    }
   ],
   "source": [
    "cnn.evaluate(train)"
   ]
  },
  {
   "cell_type": "markdown",
   "id": "7a46b3cb",
   "metadata": {},
   "source": [
    "# Test accuracy"
   ]
  },
  {
   "cell_type": "code",
   "execution_count": 55,
   "id": "ecb5ae0e",
   "metadata": {},
   "outputs": [
    {
     "name": "stdout",
     "output_type": "stream",
     "text": [
      "3/3 [==============================] - 0s 86ms/step - loss: 0.6322 - accuracy: 0.8929\n"
     ]
    },
    {
     "data": {
      "text/plain": [
       "[0.6321619153022766, 0.8928571343421936]"
      ]
     },
     "execution_count": 55,
     "metadata": {},
     "output_type": "execute_result"
    }
   ],
   "source": [
    "cnn.evaluate(test)"
   ]
  },
  {
   "cell_type": "code",
   "execution_count": 56,
   "id": "98074e91",
   "metadata": {},
   "outputs": [],
   "source": [
    "def plot_metrics(history):\n",
    "    fig, (ax1, ax2) = plt.subplots(1,2,figsize=(15,5))\n",
    "\n",
    "    \n",
    "    train_loss = history.history['loss']\n",
    "    val_loss = history.history['val_loss']\n",
    "    train_acc = history.history['accuracy']\n",
    "    val_acc = history.history['val_accuracy']\n",
    "    \n",
    "    # Loss\n",
    "    ax1.plot(train_loss, label='Training Loss')\n",
    "    ax1.plot(val_loss, label='Validation Loss')\n",
    "    ax1.set_title('Loss')\n",
    "    ax1.legend()\n",
    "    #plt.show()\n",
    "    \n",
    "    # Accuracy\n",
    "    ax2.plot(train_acc, label='Training Accuracy')\n",
    "    ax2.plot(val_acc, label='Validation Accuracy')\n",
    "    ax2.set_title('Accuracy')\n",
    "    ax2.legend()\n",
    "    plt.show()"
   ]
  },
  {
   "cell_type": "code",
   "execution_count": 57,
   "id": "68484239",
   "metadata": {},
   "outputs": [
    {
     "data": {
      "image/png": "[encoded data removed]",
      "text/plain": [
       "<Figure size 1080x360 with 2 Axes>"
      ]
     },
     "metadata": {
      "needs_background": "light"
     },
     "output_type": "display_data"
    }
   ],
   "source": [
    "plot_metrics(history)"
   ]
  },
  {
   "cell_type": "code",
   "execution_count": 58,
   "id": "ea7f7340",
   "metadata": {},
   "outputs": [
    {
     "name": "stdout",
     "output_type": "stream",
     "text": [
      "Confusion Matrix\n",
      "[[37  0]\n",
      " [47  0]]\n"
     ]
    }
   ],
   "source": [
    "Y_pred = cnn.predict(test)\n",
    "y_pred = np.argmax(Y_pred, axis=1)\n",
    "\n",
    "print('Confusion Matrix')\n",
    "print(confusion_matrix(test.classes, y_pred))"
   ]
  },
  {
   "cell_type": "markdown",
   "id": "5e22e1c8",
   "metadata": {},
   "source": [
    "# Part 4 - Making single predictions"
   ]
  },
  {
   "cell_type": "code",
   "execution_count": 59,
   "id": "6f93cadd",
   "metadata": {},
   "outputs": [
    {
     "data": {
      "image/jpeg": "[encoded data removed]",
      "text/plain": [
       "<IPython.core.display.Image object>"
      ]
     },
     "metadata": {},
     "output_type": "display_data"
    },
    {
     "name": "stdout",
     "output_type": "stream",
     "text": [
      "Actual: No\n",
      "Predicted: No\n"
     ]
    }
   ],
   "source": [
    "display(Image(filename='./data/brain_tumor_dataset_split/val/no/7 no.jpg'))\n",
    "test_image = image.load_img('./data/brain_tumor_dataset_split/val/no/46 no.jpg', target_size = (IMG_SIZE, IMG_SIZE))\n",
    "test_image = image.img_to_array(test_image)\n",
    "test_image = np.expand_dims(test_image, axis = 0)\n",
    "result = cnn.predict(test_image)\n",
    "if result[0][0] == 1:\n",
    "    prediction = 'Yes'\n",
    "else:\n",
    "    prediction = 'No'\n",
    "\n",
    "print(\"Actual: No\")\n",
    "print(\"Predicted:\", prediction)"
   ]
  },
  {
   "cell_type": "code",
   "execution_count": 61,
   "id": "9113a8d9",
   "metadata": {},
   "outputs": [
    {
     "data": {
      "image/jpeg": "[encoded data removed]",
      "text/plain": [
       "<IPython.core.display.Image object>"
      ]
     },
     "metadata": {},
     "output_type": "display_data"
    },
    {
     "name": "stdout",
     "output_type": "stream",
     "text": [
      "Actual: Yes\n",
      "Predicted: Yes\n"
     ]
    }
   ],
   "source": [
    "display(Image(filename='./data/brain_tumor_dataset_split/val/yes/Y7.jpg'))\n",
    "test_image = image.load_img('./data/brain_tumor_dataset_split/val/yes/Y7.jpg', target_size = (IMG_SIZE, IMG_SIZE))\n",
    "test_image = image.img_to_array(test_image)\n",
    "test_image = np.expand_dims(test_image, axis = 0)\n",
    "result = cnn.predict(test_image)\n",
    "train.class_indices\n",
    "if result[0][0] == 1:\n",
    "    prediction = 'Yes'\n",
    "else:\n",
    "    prediction = 'No'\n",
    "\n",
    "print(\"Actual: Yes\")\n",
    "print(\"Predicted:\", prediction)"
   ]
  }
 ],
 "metadata": {
  "kernelspec": {
   "display_name": "Python 3",
   "language": "python",
   "name": "python3"
  },
  "language_info": {
   "codemirror_mode": {
    "name": "ipython",
    "version": 3
   },
   "file_extension": ".py",
   "mimetype": "text/x-python",
   "name": "python",
   "nbconvert_exporter": "python",
   "pygments_lexer": "ipython3",
   "version": "3.8.8"
  }
 },
 "nbformat": 4,
 "nbformat_minor": 5
}
